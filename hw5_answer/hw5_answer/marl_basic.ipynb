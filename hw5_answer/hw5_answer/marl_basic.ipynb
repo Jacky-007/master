{
 "cells": [
  {
   "cell_type": "markdown",
   "metadata": {},
   "source": [
    "# Multi Ageent Reinforcement Learning---- Basic Methods"
   ]
  },
  {
   "cell_type": "markdown",
   "metadata": {},
   "source": [
    "Methods:\n",
    "- (1) Joint Q Learning\n",
    "- (2) Independent Q Learning\n",
    "- (3) Minmax-Q\n",
    "\n",
    "Your works:\n",
    "- (1) Make an overview of the notebook\n",
    "- (2) Implmenting the Minmax-Q Method\n",
    "- (3) Make an analysis about these methods (non-stationarity, astringency)\n",
    "\n",
    "Package requirements:\n",
    "- (1) numpy\n",
    "- (2) matplotlib\n",
    "- (3) scipy\n",
    "- (4) gym\n",
    "\n",
    "Tips:\n",
    "In the answer I have fixed the bug of learning rate."
   ]
  },
  {
   "cell_type": "markdown",
   "metadata": {},
   "source": [
    "## Task\n",
    "![avatar](/env/map.png)\n",
    "\n",
    "We build a simple mini-grid task, the target is let the two agent (blue and red) meet each other. The setting of the tasks is following:\n",
    "- State: The local state is the coordination of each agent. And the global state is the concatenate coordination of both agents.\n",
    "- Action: The action space in our environment contains four actions $\\{east, south, west, north\\}$, each action is the moving direction of the agent.\n",
    "- Reward: The external reward in our experiment is the Manhattan distance of the two agents."
   ]
  },
  {
   "cell_type": "markdown",
   "metadata": {},
   "source": [
    "## Joint Q Learning (Centralized joint policy learning)"
   ]
  },
  {
   "cell_type": "markdown",
   "metadata": {},
   "source": [
    "The simplest MARL method is directly using single agent methods like Q-learning. \n",
    "The only change is using the joint action and joint observation to replace the action and state in single agent setting.\n",
    "(Generally, other agent's policy will be fixed when executing one agent)"
   ]
  },
  {
   "cell_type": "markdown",
   "metadata": {},
   "source": [
    "#### Recap: Q-Learning\n",
    "- Maximize the $Q$ function $Q(s,a)$\n",
    "- $Q(s,a) \\longleftarrow (1-\\alpha)Q(s,a) + \\alpha(r+\\gamma V'(s'))$\n",
    "- $V'(s') = \\min \\limits_{a'}Q(s',a')$"
   ]
  },
  {
   "cell_type": "markdown",
   "metadata": {},
   "source": [
    "### Procedure of Joint Q Learning"
   ]
  },
  {
   "cell_type": "markdown",
   "metadata": {},
   "source": [
    "- The agents choose actions according to their policies.\n",
    "- For agent $j$, the corresponding policy is defined as $\\pi_j:S \\longrightarrow \\omega(A^j)$, where $\\omega(A^j)$ is the \n",
    "    collection of probability distributions over agent $j$’s action space $A_j$.\n",
    "- Let $\\boldsymbol{\\pi}=[\\pi^1,...\\pi^n]$ is the joint policy of all agents, then\n",
    "$$V_{\\pi}^j(s)=\\sum_{t=0}\\gamma^t\\mathbb{E}_{\\boldsymbol{\\pi},p}[r^j_t]$$\n",
    "- Q-function $Q^j_{\\pi}:S\\times A^1\\times ... \\times A^n \\longrightarrow \\mathbb{R}$ of agent j under the joint policy $\\boldsymbol{\\pi}$:\n",
    " $$Q^j_{\\pi}(s, \\boldsymbol{a})=r^j(s, \\boldsymbol{a})+\\gamma \\mathbb{E}_{s'}[V_{\\pi}^j(s')]$$\n",
    " where $\\boldsymbol{a}=\\{a_0,a_1,...a_n\\}$"
   ]
  },
  {
   "cell_type": "code",
   "execution_count": 2,
   "metadata": {},
   "outputs": [
    {
     "data": {
      "image/png": "[encoded data removed]",
      "text/plain": [
       "<Figure size 432x288 with 1 Axes>"
      ]
     },
     "metadata": {
      "needs_background": "light"
     },
     "output_type": "display_data"
    }
   ],
   "source": [
    "import numpy as np\n",
    "import random\n",
    "from env import TestEnv\n",
    "from collections import namedtuple\n",
    "Transition = namedtuple('Transition', ('state', 'action', 'next_state', 'reward'))\n",
    "# from jupyterplot import ProgressPlot"
   ]
  },
  {
   "cell_type": "code",
   "execution_count": 3,
   "metadata": {},
   "outputs": [],
   "source": [
    "class JointQLearner(object):\n",
    "    def __init__(self):\n",
    "        # q_table (A joint q_table)\n",
    "        self.q_table = np.zeros((4, 4, 4, 4, 16))\n",
    "        # learning rate\n",
    "        self.lr = 0.5\n",
    "        # discount\n",
    "        self.gamma = 0.9\n",
    "        # exploration rate\n",
    "        self.eps_start = 1\n",
    "        self.eps = self.eps_start\n",
    "        self.steps_done = 0\n",
    "        self.env = TestEnv()\n",
    "\n",
    "    def act(self, state):\n",
    "        rand = random.random()\n",
    "        eps_threshold = self.eps\n",
    "        if rand > eps_threshold:\n",
    "            q_action_value = self.q_table[state[0], state[1], state[2], state[3]]\n",
    "            action = np.argmax(q_action_value)\n",
    "        else:\n",
    "            action = random.randint(0, 15)\n",
    "        self.steps_done += 1\n",
    "        return action\n",
    "\n",
    "    def optimize(self, state, next_state, action, reward):\n",
    "        self.q_table[state[0], state[1], state[2], state[3], action] = \\\n",
    "            (1- self.lr) * self.q_table[state[0], state[1], state[2], state[3], action] + self.lr * \\\n",
    "            (reward + self.gamma * np.max(self.q_table[next_state[0], next_state[1], next_state[2], next_state[3]]))\n",
    "\n",
    "    def train(self):\n",
    "        long_term_rewards_list = []\n",
    "        for epsoide in range(501):\n",
    "            state = self.env.reset()\n",
    "            long_term_reward = 0\n",
    "            step_num = 0\n",
    "            for i in range(80):\n",
    "                action = self.act(state)\n",
    "                next_state, reward, done, _ = self.env.step(action)\n",
    "                step_num += 1\n",
    "                long_term_reward += reward\n",
    "                self.optimize(state, next_state, action, reward)\n",
    "                state = next_state\n",
    "                if done:\n",
    "                    if epsoide % 100 == 0:\n",
    "                        print(\"Epsoide: {}  Expected Reward: {}\". format(epsoide, long_term_reward))\n",
    "                    # print(np.min(self.q_table))\n",
    "                    self.eps *= 0.99\n",
    "                    self.lr *= 0.99\n",
    "                    long_term_rewards_list.append(long_term_reward)\n",
    "                    break\n",
    "        return long_term_rewards_list\n",
    "\n",
    "    def save_q_value_matrix(self):\n",
    "        np.save(\"./optimal_q_value.npy\", self.q_table)\n",
    "\n",
    "    def load_q_value_matrix(self):\n",
    "        self.q_table = np.load(\"./optimal_q_value.npy\")"
   ]
  },
  {
   "cell_type": "code",
   "execution_count": 4,
   "metadata": {},
   "outputs": [
    {
     "name": "stdout",
     "output_type": "stream",
     "text": [
      "Epsoide: 0  Expected Reward: -63\n",
      "Epsoide: 100  Expected Reward: -121\n",
      "Epsoide: 200  Expected Reward: -6\n",
      "Epsoide: 300  Expected Reward: -6\n",
      "Epsoide: 400  Expected Reward: -8\n",
      "Epsoide: 500  Expected Reward: -6\n"
     ]
    }
   ],
   "source": [
    "learner = JointQLearner()\n",
    "long_term_rewards = learner.train()"
   ]
  },
  {
   "cell_type": "code",
   "execution_count": 5,
   "metadata": {},
   "outputs": [
    {
     "data": {
      "text/plain": [
       "[<matplotlib.lines.Line2D at 0x204a29e0730>]"
      ]
     },
     "execution_count": 5,
     "metadata": {},
     "output_type": "execute_result"
    },
    {
     "data": {
      "image/png": "[encoded data removed]",
      "text/plain": [
       "<Figure size 432x288 with 1 Axes>"
      ]
     },
     "metadata": {
      "needs_background": "light"
     },
     "output_type": "display_data"
    }
   ],
   "source": [
    "import matplotlib.pyplot as plt\n",
    "plt.xlabel('Iterations')\n",
    "plt.ylabel('Expected Return')\n",
    "iterations = [i for i in range(len(long_term_rewards))]\n",
    "plt.plot(iterations, long_term_rewards)"
   ]
  },
  {
   "cell_type": "markdown",
   "metadata": {},
   "source": [
    "## Independent Q-learning"
   ]
  },
  {
   "cell_type": "markdown",
   "metadata": {},
   "source": [
    "In independent Q-learning, each agent $i$ has its own Q function and treats other agents as a part of the environment.\n"
   ]
  },
  {
   "cell_type": "markdown",
   "metadata": {},
   "source": [
    "### Procedure of Independent Q Learning\n",
    "- Each agent $i$ have a individual $Q$ function $Q(s_i,a_i)$;\n",
    "- For each agent's $Q$ function, it is updated by:\n",
    "\n",
    "    $Q(s_i,a_i) \\longleftarrow (1-\\alpha)Q(s_i,a_i) + \\alpha(r+\\gamma V'({s_i}'))$\n",
    "- $V'({s_i}') = \\max \\limits_{{a_i}'}Q({s_i}',{a_i}')$"
   ]
  },
  {
   "cell_type": "markdown",
   "metadata": {},
   "source": [
    "The main shortage is \\textbf{non-stationarity} and hard to learn cooperation."
   ]
  },
  {
   "cell_type": "code",
   "execution_count": 6,
   "metadata": {},
   "outputs": [],
   "source": [
    "class IndependentQLearner(object):\n",
    "    def __init__(self):\n",
    "        # q_table (Each agent has their own q_table)\n",
    "        self.q_table_alpha = np.zeros((4, 4, 4, 4, 4))\n",
    "        self.q_table_beta = np.zeros((4, 4, 4, 4, 4))\n",
    "        # learning rate\n",
    "        self.lr = 0.5\n",
    "        # discount\n",
    "        self.gamma = 0.9\n",
    "        # exploration rate\n",
    "        self.eps_start = 1\n",
    "        self.eps = self.eps_start\n",
    "        self.steps_done = 0\n",
    "        # build environment\n",
    "        self.env = TestEnv(joint=False, share_obs=True)\n",
    "\n",
    "    def act(self, state):\n",
    "        rand = random.random()\n",
    "        eps_threshold = self.eps\n",
    "        if rand > eps_threshold:\n",
    "            q_action_value_alpha = self.q_table_alpha[state[0][0], state[0][1], state[0][2], state[0][3]]\n",
    "            q_action_value_beta = self.q_table_beta[state[1][0], state[1][1], state[1][2], state[1][3]]\n",
    "            action_alpha = np.argmax(q_action_value_alpha)\n",
    "            action_beta = np.argmax(q_action_value_beta)\n",
    "            action = action_alpha * 4 + action_beta\n",
    "        else:\n",
    "            action = random.randint(0, 15)\n",
    "        self.steps_done += 1\n",
    "        return action\n",
    "\n",
    "    def optimize(self, state, next_state, action, reward):\n",
    "        act_a, act_b = divmod(action, 4)\n",
    "        self.q_table_alpha[state[0][0], state[0][1], state[0][2], state[0][3], act_a] = \\\n",
    "            (1- self.lr) * self.q_table_alpha[state[0][0], state[0][1], state[0][2], state[0][3], act_a] + self.lr * \\\n",
    "            (reward + self.gamma * np.max(self.q_table_alpha[next_state[0][0], next_state[0][1],\n",
    "                                                             next_state[0][2], next_state[0][3]]))\n",
    "\n",
    "        self.q_table_beta[state[1][0], state[1][1], state[1][2], state[1][3], act_b] = \\\n",
    "            (1- self.lr) * self.q_table_beta[state[1][0], state[1][1], state[1][2], state[1][3], act_b] + self.lr * \\\n",
    "            (reward + self.gamma * np.max(self.q_table_beta[next_state[1][0], next_state[1][1],\n",
    "                                                            next_state[1][2], next_state[1][3]]))\n",
    "\n",
    "    def train(self):\n",
    "        long_term_rewards_list = []\n",
    "        for epsoide in range(501):\n",
    "            state = self.env.reset()\n",
    "            long_term_reward = 0\n",
    "            step_num = 0\n",
    "            for i in range(80):\n",
    "                action = self.act(state)\n",
    "                next_state, reward, done, _ = self.env.step(action)\n",
    "                step_num += 1\n",
    "                long_term_reward += reward\n",
    "                self.optimize(state, next_state, action, reward)\n",
    "                state = next_state\n",
    "                if done:\n",
    "                    if epsoide % 100 == 0:\n",
    "                        print(\"Epsoide: {}  Expected Reward: {}\". format(epsoide, long_term_reward))\n",
    "                    # print(np.min(self.q_table))\n",
    "                    self.eps *= 0.99\n",
    "                    self.lr *= 0.99\n",
    "                    long_term_rewards_list.append(long_term_reward)\n",
    "                    break\n",
    "        return long_term_rewards_list"
   ]
  },
  {
   "cell_type": "code",
   "execution_count": 7,
   "metadata": {},
   "outputs": [
    {
     "name": "stdout",
     "output_type": "stream",
     "text": [
      "Epsoide: 0  Expected Reward: -29\n",
      "Epsoide: 100  Expected Reward: -18\n",
      "Epsoide: 200  Expected Reward: -10\n",
      "Epsoide: 300  Expected Reward: -6\n",
      "Epsoide: 400  Expected Reward: -6\n",
      "Epsoide: 500  Expected Reward: -6\n"
     ]
    }
   ],
   "source": [
    "learner = IndependentQLearner()\n",
    "long_term_rewards = learner.train()"
   ]
  },
  {
   "cell_type": "code",
   "execution_count": 8,
   "metadata": {},
   "outputs": [
    {
     "data": {
      "text/plain": [
       "[<matplotlib.lines.Line2D at 0x204a29e70a0>]"
      ]
     },
     "execution_count": 8,
     "metadata": {},
     "output_type": "execute_result"
    },
    {
     "data": {
      "image/png": "[encoded data removed]",
      "text/plain": [
       "<Figure size 432x288 with 1 Axes>"
      ]
     },
     "metadata": {
      "needs_background": "light"
     },
     "output_type": "display_data"
    }
   ],
   "source": [
    "import matplotlib.pyplot as plt\n",
    "plt.xlabel('Iterations')\n",
    "plt.ylabel('Expected Return')\n",
    "iterations = [i for i in range(len(long_term_rewards))]\n",
    "plt.plot(iterations, long_term_rewards)"
   ]
  },
  {
   "cell_type": "markdown",
   "metadata": {},
   "source": [
    "## Minmax-Q"
   ]
  },
  {
   "cell_type": "markdown",
   "metadata": {},
   "source": [
    "Like independent Q learning, each agent $i$ has its own Q function"
   ]
  },
  {
   "cell_type": "markdown",
   "metadata": {},
   "source": [
    "Q-values are over joint actions: $Q(s,a,o)$:\n",
    "- $s = \\text{action}$\n",
    "- $a = \\text{your action}$\n",
    "- $o = \\text{action of the opponent}$\n",
    "Instead of playing action with highest $Q(s, a, o)$, play \\textbf{MinMax}\n",
    "$$ Q(s,a,o) = (1-\\alpha)Q(s,a,o)+\\alpha(r+\\gamma V(s'))$$\n",
    "$$ V(s') = \\max\\limits_{\\pi(s')}\\min\\limits_{o'}\\sum_a Q(s',a',o')$$\n",
    "\n",
    "Minmax-Q can deal with non-stationarity. It has been proven that the method can reach the $\\text{Nash equilibrium}$"
   ]
  },
  {
   "cell_type": "markdown",
   "metadata": {},
   "source": [
    "## Procedure of Minmax-Q"
   ]
  },
  {
   "cell_type": "markdown",
   "metadata": {},
   "source": [
    "![avatar](/env/minmax-q.jpg)"
   ]
  },
  {
   "cell_type": "code",
   "execution_count": 9,
   "metadata": {},
   "outputs": [],
   "source": [
    "class MinmaxQLearner(object):\n",
    "    def __init__(self):\n",
    "        # Here you also need to consider about the other agent' action\n",
    "        self.q_table_alpha = np.zeros((4, 4, 4, 4, 4, 4))\n",
    "        self.q_table_beta = np.zeros((4, 4, 4, 4, 4, 4))\n",
    "        self.lr = 0.5\n",
    "        self.gamma = 0.9\n",
    "        self.eps_start = 1\n",
    "        self.eps = self.eps_start\n",
    "        self.steps_done = 0\n",
    "        self.env = TestEnv(joint=False, share_obs=True)\n",
    "\n",
    "    def act(self, state):\n",
    "        rand = random.random()\n",
    "        eps_threshold = self.eps\n",
    "        if rand > eps_threshold:\n",
    "            # Here you need to implment the action choice in Minmax-Q\n",
    "            # You can refer to the implmentation of independent Q learning\n",
    "            # Tips: In Minmax-Q learning, you must consider about the other agent's action\n",
    "            ####\n",
    "\n",
    "            # Please implment the choose action procedure here\n",
    "            \n",
    "            # get the average q_value when opponent use different actions\n",
    "            alpha_opponent_q_value = \\\n",
    "                [np.mean(self.q_table_alpha[state[0][0], state[0][1], state[0][2], state[0][3], b])\n",
    "                 for b in range(4)]\n",
    "            beta_opponent_q_value = \\\n",
    "                [np.mean(self.q_table_beta[state[1][0], state[1][1], state[1][2], state[1][3], a])\n",
    "                 for a in range(4)]\n",
    "            \n",
    "            # The min process, get the opponent's action which will make the agent's q value worest\n",
    "            alpha_opponent_action = np.argmin(alpha_opponent_q_value)\n",
    "            beta_opponent_action = np.argmin(beta_opponent_q_value)\n",
    "            q_action_value_alpha = self.q_table_alpha[state[0][0], state[0][1], state[0][2], state[0][3],\n",
    "                                                      alpha_opponent_action]\n",
    "            q_action_value_beta = self.q_table_beta[state[1][0], state[1][1], state[1][2], state[1][3],\n",
    "                                                    beta_opponent_action]\n",
    "            action_alpha = np.argmax(q_action_value_alpha)\n",
    "            action_beta = np.argmax(q_action_value_beta)\n",
    "            ####\n",
    "            action = action_alpha * 4 + action_beta\n",
    "        else:\n",
    "            action = random.randint(0, 15)\n",
    "        self.steps_done += 1\n",
    "        return action\n",
    "\n",
    "    def optimize(self, state, next_state, action, reward):\n",
    "        act_a, act_b = divmod(action, 4)\n",
    "\n",
    "        ####\n",
    "\n",
    "        # Please implment the optimazation procedure here\n",
    "        # self.q_table_alpha = ...\n",
    "        # self.q_table_beta = ...\n",
    "        ####\n",
    "        \n",
    "        # get the average next q_value when opponent use different actions\n",
    "        alpha_opponent_q_value = \\\n",
    "            [np.mean(self.q_table_alpha[next_state[0][0], next_state[0][1], next_state[0][2], next_state[0][3], b])\n",
    "             for b in range(4)]\n",
    "        beta_opponent_q_value = \\\n",
    "            [np.mean(self.q_table_beta[next_state[1][0], next_state[1][1], next_state[1][2], next_state[1][3], a])\n",
    "             for a in range(4)]\n",
    "        \n",
    "        # The min process, get the opponent's action which will make the agent's q value worest\n",
    "        alpha_opponent_action = np.argmin(alpha_opponent_q_value)\n",
    "        beta_opponent_action = np.argmin(beta_opponent_q_value)\n",
    "        \n",
    "        # max process\n",
    "        self.q_table_alpha[state[0][0], state[0][1], state[0][2], state[0][3], act_b, act_a] = \\\n",
    "            (1 - self.lr) * self.q_table_alpha[state[0][0], state[0][1], state[0][2], state[0][3], act_b, act_a] + \\\n",
    "            self.lr * (reward + self.gamma * np.max(self.q_table_alpha[next_state[0][0], next_state[0][1],\n",
    "                                                                       next_state[0][2], next_state[0][3],\n",
    "                                                                       alpha_opponent_action]))\n",
    "        \n",
    "        self.q_table_beta[state[1][0], state[1][1], state[1][2], state[1][3], act_a, act_b] = \\\n",
    "            (1 - self.lr) * self.q_table_beta[\n",
    "                state[1][0], state[1][1], state[1][2], state[1][3], act_a, act_b] + self.lr * \\\n",
    "            (reward + self.gamma * np.max(self.q_table_beta[next_state[1][0], next_state[1][1],\n",
    "                                                            next_state[1][2], next_state[1][3],\n",
    "                                                            beta_opponent_action]))\n",
    "\n",
    "    def train(self):\n",
    "        long_term_rewards_list = []\n",
    "        for epsoide in range(501):\n",
    "            state = self.env.reset()\n",
    "            long_term_reward = 0\n",
    "            step_num = 0\n",
    "            for i in range(80):\n",
    "                action = self.act(state)\n",
    "                next_state, reward, done, _ = self.env.step(action)\n",
    "                step_num += 1\n",
    "                long_term_reward += reward\n",
    "                self.optimize(state, next_state, action, reward)\n",
    "                state = next_state\n",
    "                if done:\n",
    "                    if epsoide % 100 == 0:\n",
    "                        print(\"Epsoide: {}  Expected Reward: {}\".format(epsoide, long_term_reward))\n",
    "                    # print(np.min(self.q_table))\n",
    "                    self.eps *= 0.99\n",
    "                    self.lr *= 0.99\n",
    "                    long_term_rewards_list.append(long_term_reward)\n",
    "                    break\n",
    "        return long_term_rewards_list"
   ]
  },
  {
   "cell_type": "code",
   "execution_count": 10,
   "metadata": {},
   "outputs": [
    {
     "name": "stdout",
     "output_type": "stream",
     "text": [
      "Epsoide: 0  Expected Reward: -24\n",
      "Epsoide: 100  Expected Reward: -9\n",
      "Epsoide: 200  Expected Reward: -8\n",
      "Epsoide: 300  Expected Reward: -6\n",
      "Epsoide: 400  Expected Reward: -6\n",
      "Epsoide: 500  Expected Reward: -6\n"
     ]
    }
   ],
   "source": [
    "learner = MinmaxQLearner()\n",
    "long_term_rewards = learner.train()"
   ]
  },
  {
   "cell_type": "code",
   "execution_count": 11,
   "metadata": {},
   "outputs": [
    {
     "data": {
      "text/plain": [
       "[<matplotlib.lines.Line2D at 0x204a2ab1640>]"
      ]
     },
     "execution_count": 11,
     "metadata": {},
     "output_type": "execute_result"
    },
    {
     "data": {
      "image/png": "[encoded data removed]",
      "text/plain": [
       "<Figure size 432x288 with 1 Axes>"
      ]
     },
     "metadata": {
      "needs_background": "light"
     },
     "output_type": "display_data"
    }
   ],
   "source": [
    "import matplotlib.pyplot as plt\n",
    "plt.xlabel('Iterations')\n",
    "plt.ylabel('Expected Return')\n",
    "iterations = [i for i in range(len(long_term_rewards))]\n",
    "plt.plot(iterations, long_term_rewards)"
   ]
  },
  {
   "cell_type": "markdown",
   "metadata": {},
   "source": [
    "What will happen if we use the max max?(change the argmin to argmax)"
   ]
  },
  {
   "cell_type": "code",
   "execution_count": 12,
   "metadata": {},
   "outputs": [],
   "source": [
    "class MaxmaxQLearner(object):\n",
    "    def __init__(self):\n",
    "        # Here you also need to consider about the other agent' action\n",
    "        self.q_table_alpha = np.zeros((4, 4, 4, 4, 4, 4))\n",
    "        self.q_table_beta = np.zeros((4, 4, 4, 4, 4, 4))\n",
    "        self.lr = 0.5\n",
    "        self.gamma = 0.9\n",
    "        self.eps_start = 1\n",
    "        self.eps = self.eps_start\n",
    "        self.steps_done = 0\n",
    "        self.env = TestEnv(joint=False, share_obs=True)\n",
    "\n",
    "    def act(self, state):\n",
    "        rand = random.random()\n",
    "        eps_threshold = self.eps\n",
    "        if rand > eps_threshold:\n",
    "            # Here you need to implment the action choice in Minmax-Q\n",
    "            # You can refer to the implmentation of independent Q learning\n",
    "            # Tips: In Minmax-Q learning, you must consider about the other agent's action\n",
    "            ####\n",
    "\n",
    "            # Please implment the choose action procedure here\n",
    "            alpha_opponent_q_value = \\\n",
    "                [np.mean(self.q_table_alpha[state[0][0], state[0][1], state[0][2], state[0][3], b])\n",
    "                 for b in range(4)]\n",
    "            beta_opponent_q_value = \\\n",
    "                [np.mean(self.q_table_beta[state[1][0], state[1][1], state[1][2], state[1][3], a])\n",
    "                 for a in range(4)]\n",
    "            alpha_opponent_action = np.argmax(alpha_opponent_q_value)\n",
    "            beta_opponent_action = np.argmax(beta_opponent_q_value)\n",
    "            q_action_value_alpha = self.q_table_alpha[state[0][0], state[0][1], state[0][2], state[0][3],\n",
    "                                                      alpha_opponent_action]\n",
    "            q_action_value_beta = self.q_table_beta[state[1][0], state[1][1], state[1][2], state[1][3],\n",
    "                                                    beta_opponent_action]\n",
    "            action_alpha = np.argmax(q_action_value_alpha)\n",
    "            action_beta = np.argmax(q_action_value_beta)\n",
    "            ####\n",
    "            action = action_alpha * 4 + action_beta\n",
    "        else:\n",
    "            action = random.randint(0, 15)\n",
    "        self.steps_done += 1\n",
    "        return action\n",
    "\n",
    "    def optimize(self, state, next_state, action, reward):\n",
    "        act_a, act_b = divmod(action, 4)\n",
    "\n",
    "        ####\n",
    "\n",
    "        # Please implment the optimazation procedure here\n",
    "        # self.q_table_alpha = ...\n",
    "        # self.q_table_beta = ...\n",
    "        ####\n",
    "        alpha_opponent_q_value = \\\n",
    "            [np.mean(self.q_table_alpha[next_state[0][0], next_state[0][1], next_state[0][2], next_state[0][3], b])\n",
    "             for b in range(4)]\n",
    "        beta_opponent_q_value = \\\n",
    "            [np.mean(self.q_table_beta[next_state[1][0], next_state[1][1], next_state[1][2], next_state[1][3], a])\n",
    "             for a in range(4)]\n",
    "        alpha_opponent_action = np.argmax(alpha_opponent_q_value)\n",
    "        beta_opponent_action = np.argmax(beta_opponent_q_value)\n",
    "        self.q_table_alpha[state[0][0], state[0][1], state[0][2], state[0][3], act_b, act_a] = \\\n",
    "            (1 - self.lr) * self.q_table_alpha[state[0][0], state[0][1], state[0][2], state[0][3], act_b, act_a] + \\\n",
    "            self.lr * (reward + self.gamma * np.max(self.q_table_alpha[next_state[0][0], next_state[0][1],\n",
    "                                                                       next_state[0][2], next_state[0][3],\n",
    "                                                                       alpha_opponent_action]))\n",
    "\n",
    "        self.q_table_beta[state[1][0], state[1][1], state[1][2], state[1][3], act_a, act_b] = \\\n",
    "            (1 - self.lr) * self.q_table_beta[\n",
    "                state[1][0], state[1][1], state[1][2], state[1][3], act_a, act_b] + self.lr * \\\n",
    "            (reward + self.gamma * np.max(self.q_table_beta[next_state[1][0], next_state[1][1],\n",
    "                                                            next_state[1][2], next_state[1][3],\n",
    "                                                            beta_opponent_action]))\n",
    "\n",
    "    def train(self):\n",
    "        long_term_rewards_list = []\n",
    "        for epsoide in range(501):\n",
    "            state = self.env.reset()\n",
    "            long_term_reward = 0\n",
    "            step_num = 0\n",
    "            for i in range(80):\n",
    "                action = self.act(state)\n",
    "                next_state, reward, done, _ = self.env.step(action)\n",
    "                step_num += 1\n",
    "                long_term_reward += reward\n",
    "                self.optimize(state, next_state, action, reward)\n",
    "                state = next_state\n",
    "                if done:\n",
    "                    if epsoide % 100 == 0:\n",
    "                        print(\"Epsoide: {}  Expected Reward: {}\".format(epsoide, long_term_reward))\n",
    "                    # print(np.min(self.q_table))\n",
    "                    self.eps *= 0.99\n",
    "                    self.lr *= 0.99\n",
    "                    long_term_rewards_list.append(long_term_reward)\n",
    "                    break\n",
    "        return long_term_rewards_list"
   ]
  },
  {
   "cell_type": "code",
   "execution_count": 13,
   "metadata": {},
   "outputs": [
    {
     "name": "stdout",
     "output_type": "stream",
     "text": [
      "Epsoide: 0  Expected Reward: -36\n",
      "Epsoide: 100  Expected Reward: -19\n",
      "Epsoide: 200  Expected Reward: -109\n",
      "Epsoide: 300  Expected Reward: -11\n",
      "Epsoide: 400  Expected Reward: -26\n",
      "Epsoide: 500  Expected Reward: -11\n"
     ]
    }
   ],
   "source": [
    "learner = MaxmaxQLearner()\n",
    "long_term_rewards = learner.train()"
   ]
  },
  {
   "cell_type": "code",
   "execution_count": 14,
   "metadata": {},
   "outputs": [
    {
     "data": {
      "text/plain": [
       "[<matplotlib.lines.Line2D at 0x204a2b16af0>]"
      ]
     },
     "execution_count": 14,
     "metadata": {},
     "output_type": "execute_result"
    },
    {
     "data": {
      "image/png": "[encoded data removed]",
      "text/plain": [
       "<Figure size 432x288 with 1 Axes>"
      ]
     },
     "metadata": {
      "needs_background": "light"
     },
     "output_type": "display_data"
    }
   ],
   "source": [
    "import matplotlib.pyplot as plt\n",
    "plt.xlabel('Iterations')\n",
    "plt.ylabel('Expected Return')\n",
    "iterations = [i for i in range(len(long_term_rewards))]\n",
    "plt.plot(iterations, long_term_rewards)"
   ]
  },
  {
   "cell_type": "code",
   "execution_count": null,
   "metadata": {},
   "outputs": [],
   "source": []
  }
 ],
 "metadata": {
  "kernelspec": {
   "display_name": "Python 3",
   "language": "python",
   "name": "python3"
  },
  "language_info": {
   "codemirror_mode": {
    "name": "ipython",
    "version": 3
   },
   "file_extension": ".py",
   "mimetype": "text/x-python",
   "name": "python",
   "nbconvert_exporter": "python",
   "pygments_lexer": "ipython3",
   "version": "3.8.5"
  }
 },
 "nbformat": 4,
 "nbformat_minor": 2
}
