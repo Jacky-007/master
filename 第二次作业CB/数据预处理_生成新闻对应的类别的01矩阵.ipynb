{
 "cells": [
  {
   "cell_type": "code",
   "execution_count": 17,
   "metadata": {},
   "outputs": [],
   "source": [
    "import pandas as pd\n",
    "import numpy as np"
   ]
  },
  {
   "cell_type": "code",
   "execution_count": 18,
   "metadata": {},
   "outputs": [
    {
     "data": {
      "text/html": [
       "<div>\n",
       "<style scoped>\n",
       "    .dataframe tbody tr th:only-of-type {\n",
       "        vertical-align: middle;\n",
       "    }\n",
       "\n",
       "    .dataframe tbody tr th {\n",
       "        vertical-align: top;\n",
       "    }\n",
       "\n",
       "    .dataframe thead th {\n",
       "        text-align: right;\n",
       "    }\n",
       "</style>\n",
       "<table border=\"1\" class=\"dataframe\">\n",
       "  <thead>\n",
       "    <tr style=\"text-align: right;\">\n",
       "      <th></th>\n",
       "      <th>Nid</th>\n",
       "      <th>Category</th>\n",
       "      <th>SubCategory</th>\n",
       "      <th>Title</th>\n",
       "      <th>Abstract</th>\n",
       "    </tr>\n",
       "  </thead>\n",
       "  <tbody>\n",
       "    <tr>\n",
       "      <th>0</th>\n",
       "      <td>N55528</td>\n",
       "      <td>lifestyle</td>\n",
       "      <td>lifestyleroyals</td>\n",
       "      <td>The Brands Queen Elizabeth, Prince Charles, an...</td>\n",
       "      <td>Shop the notebooks, jackets, and more that the...</td>\n",
       "    </tr>\n",
       "    <tr>\n",
       "      <th>1</th>\n",
       "      <td>N18955</td>\n",
       "      <td>health</td>\n",
       "      <td>medical</td>\n",
       "      <td>Dispose of unwanted prescription drugs during ...</td>\n",
       "      <td>NaN</td>\n",
       "    </tr>\n",
       "    <tr>\n",
       "      <th>2</th>\n",
       "      <td>N61837</td>\n",
       "      <td>news</td>\n",
       "      <td>newsworld</td>\n",
       "      <td>The Cost of Trump's Aid Freeze in the Trenches...</td>\n",
       "      <td>Lt. Ivan Molchanets peeked over a parapet of s...</td>\n",
       "    </tr>\n",
       "    <tr>\n",
       "      <th>3</th>\n",
       "      <td>N53526</td>\n",
       "      <td>health</td>\n",
       "      <td>voices</td>\n",
       "      <td>I Was An NBA Wife. Here's How It Affected My M...</td>\n",
       "      <td>I felt like I was a fraud, and being an NBA wi...</td>\n",
       "    </tr>\n",
       "    <tr>\n",
       "      <th>4</th>\n",
       "      <td>N38324</td>\n",
       "      <td>health</td>\n",
       "      <td>medical</td>\n",
       "      <td>How to Get Rid of Skin Tags, According to a De...</td>\n",
       "      <td>They seem harmless, but there's a very good re...</td>\n",
       "    </tr>\n",
       "    <tr>\n",
       "      <th>...</th>\n",
       "      <td>...</td>\n",
       "      <td>...</td>\n",
       "      <td>...</td>\n",
       "      <td>...</td>\n",
       "      <td>...</td>\n",
       "    </tr>\n",
       "    <tr>\n",
       "      <th>42411</th>\n",
       "      <td>N63550</td>\n",
       "      <td>lifestyle</td>\n",
       "      <td>lifestyleroyals</td>\n",
       "      <td>Why Kate &amp; Meghan Were on Different Balconies ...</td>\n",
       "      <td>There's no scandal here. It's all about the or...</td>\n",
       "    </tr>\n",
       "    <tr>\n",
       "      <th>42412</th>\n",
       "      <td>N30345</td>\n",
       "      <td>entertainment</td>\n",
       "      <td>entertainment-celebrity</td>\n",
       "      <td>See the stars at the 2019 Baby2Baby gala</td>\n",
       "      <td>Stars like Chrissy Teigen and Kate Hudson supp...</td>\n",
       "    </tr>\n",
       "    <tr>\n",
       "      <th>42413</th>\n",
       "      <td>N30135</td>\n",
       "      <td>news</td>\n",
       "      <td>newsgoodnews</td>\n",
       "      <td>Tennessee judge holds lawyer's baby as he swea...</td>\n",
       "      <td>Tennessee Court of Appeals Judge Richard Dinki...</td>\n",
       "    </tr>\n",
       "    <tr>\n",
       "      <th>42414</th>\n",
       "      <td>N44276</td>\n",
       "      <td>autos</td>\n",
       "      <td>autossports</td>\n",
       "      <td>Best Sports Car Deals for October</td>\n",
       "      <td>NaN</td>\n",
       "    </tr>\n",
       "    <tr>\n",
       "      <th>42415</th>\n",
       "      <td>N39563</td>\n",
       "      <td>sports</td>\n",
       "      <td>more_sports</td>\n",
       "      <td>Shall we dance: Sports stars shake their leg</td>\n",
       "      <td>NaN</td>\n",
       "    </tr>\n",
       "  </tbody>\n",
       "</table>\n",
       "<p>42416 rows × 5 columns</p>\n",
       "</div>"
      ],
      "text/plain": [
       "          Nid       Category              SubCategory  \\\n",
       "0      N55528      lifestyle          lifestyleroyals   \n",
       "1      N18955         health                  medical   \n",
       "2      N61837           news                newsworld   \n",
       "3      N53526         health                   voices   \n",
       "4      N38324         health                  medical   \n",
       "...       ...            ...                      ...   \n",
       "42411  N63550      lifestyle          lifestyleroyals   \n",
       "42412  N30345  entertainment  entertainment-celebrity   \n",
       "42413  N30135           news             newsgoodnews   \n",
       "42414  N44276          autos              autossports   \n",
       "42415  N39563         sports              more_sports   \n",
       "\n",
       "                                                   Title  \\\n",
       "0      The Brands Queen Elizabeth, Prince Charles, an...   \n",
       "1      Dispose of unwanted prescription drugs during ...   \n",
       "2      The Cost of Trump's Aid Freeze in the Trenches...   \n",
       "3      I Was An NBA Wife. Here's How It Affected My M...   \n",
       "4      How to Get Rid of Skin Tags, According to a De...   \n",
       "...                                                  ...   \n",
       "42411  Why Kate & Meghan Were on Different Balconies ...   \n",
       "42412           See the stars at the 2019 Baby2Baby gala   \n",
       "42413  Tennessee judge holds lawyer's baby as he swea...   \n",
       "42414                  Best Sports Car Deals for October   \n",
       "42415       Shall we dance: Sports stars shake their leg   \n",
       "\n",
       "                                                Abstract  \n",
       "0      Shop the notebooks, jackets, and more that the...  \n",
       "1                                                    NaN  \n",
       "2      Lt. Ivan Molchanets peeked over a parapet of s...  \n",
       "3      I felt like I was a fraud, and being an NBA wi...  \n",
       "4      They seem harmless, but there's a very good re...  \n",
       "...                                                  ...  \n",
       "42411  There's no scandal here. It's all about the or...  \n",
       "42412  Stars like Chrissy Teigen and Kate Hudson supp...  \n",
       "42413  Tennessee Court of Appeals Judge Richard Dinki...  \n",
       "42414                                                NaN  \n",
       "42415                                                NaN  \n",
       "\n",
       "[42416 rows x 5 columns]"
      ]
     },
     "execution_count": 18,
     "metadata": {},
     "output_type": "execute_result"
    }
   ],
   "source": [
    "df = pd.read_csv(r'test\\test_news.tsv',sep = '\\t')\n",
    "df"
   ]
  },
  {
   "cell_type": "code",
   "execution_count": 19,
   "metadata": {},
   "outputs": [
    {
     "name": "stdout",
     "output_type": "stream",
     "text": [
      "42416 5\n"
     ]
    }
   ],
   "source": [
    "(m, n) = df.shape\n",
    "print(m,n)"
   ]
  },
  {
   "cell_type": "code",
   "execution_count": 20,
   "metadata": {
    "scrolled": true
   },
   "outputs": [
    {
     "data": {
      "text/plain": [
       "array([['N55528', 'lifestyle', 'lifestyleroyals',\n",
       "        'The Brands Queen Elizabeth, Prince Charles, and Prince Philip Swear By',\n",
       "        \"Shop the notebooks, jackets, and more that the royals can't live without.\"],\n",
       "       ['N18955', 'health', 'medical',\n",
       "        \"Dispose of unwanted prescription drugs during the DEA's Take Back Day\",\n",
       "        nan],\n",
       "       ['N61837', 'news', 'newsworld',\n",
       "        \"The Cost of Trump's Aid Freeze in the Trenches of Ukraine's War\",\n",
       "        'Lt. Ivan Molchanets peeked over a parapet of sand bags at the front line of the war in Ukraine. Next to him was an empty helmet propped up to trick snipers, already perforated with multiple holes.'],\n",
       "       ...,\n",
       "       ['N30135', 'news', 'newsgoodnews',\n",
       "        \"Tennessee judge holds lawyer's baby as he swears her into the state bar in viral video\",\n",
       "        \"Tennessee Court of Appeals Judge Richard Dinkins is going viral after a video showed him swearing in a new lawyer last week while holding her baby.In footage making the rounds online, Dinkins could be seen lightly bouncing the baby on his hip while he administered the oath to Juliana Lamar, the mother of the 1-year-old child who recently graduated from Belmont University College of Law, according to BuzzFeed News.Y'all. Judge Dinkins of the...\"],\n",
       "       ['N44276', 'autos', 'autossports',\n",
       "        'Best Sports Car Deals for October', nan],\n",
       "       ['N39563', 'sports', 'more_sports',\n",
       "        'Shall we dance: Sports stars shake their leg', nan]],\n",
       "      dtype=object)"
      ]
     },
     "execution_count": 20,
     "metadata": {},
     "output_type": "execute_result"
    }
   ],
   "source": [
    "data_array = np.array(df)\n",
    "data_array"
   ]
  },
  {
   "cell_type": "code",
   "execution_count": 21,
   "metadata": {},
   "outputs": [
    {
     "data": {
      "text/plain": [
       "array(['N55528', 'N18955', 'N61837', ..., 'N30135', 'N44276', 'N39563'],\n",
       "      dtype=object)"
      ]
     },
     "execution_count": 21,
     "metadata": {},
     "output_type": "execute_result"
    }
   ],
   "source": [
    "# 按顺序提取所有新闻代号\n",
    "all_items_names = np.array(df.iloc[:m+1, 0])\n",
    "all_items_names"
   ]
  },
  {
   "cell_type": "code",
   "execution_count": 22,
   "metadata": {},
   "outputs": [
    {
     "data": {
      "text/plain": [
       "['sports',\n",
       " 'lifestyle',\n",
       " 'entertainment',\n",
       " 'games',\n",
       " 'middleeast',\n",
       " 'health',\n",
       " 'news',\n",
       " 'travel',\n",
       " 'tv',\n",
       " 'finance',\n",
       " 'kids',\n",
       " 'weather',\n",
       " 'foodanddrink',\n",
       " 'video',\n",
       " 'autos',\n",
       " 'movies',\n",
       " 'music']"
      ]
     },
     "execution_count": 22,
     "metadata": {},
     "output_type": "execute_result"
    }
   ],
   "source": [
    "# 按指定顺序排列的所有新闻标签\n",
    "all_labels = np.array(df.iloc[:m+1, 1])\n",
    "all_labels = list(set(all_labels))\n",
    "labels_num = len(all_labels)\n",
    "all_labels"
   ]
  },
  {
   "cell_type": "code",
   "execution_count": 23,
   "metadata": {},
   "outputs": [],
   "source": [
    "# 创建一个01矩阵，0表示该新闻不属于该类型，1表示该新闻属于该类型\n",
    "data_to_be_written = []"
   ]
  },
  {
   "cell_type": "code",
   "execution_count": 24,
   "metadata": {},
   "outputs": [],
   "source": [
    "for i in range(len(all_items_names)):\n",
    "\n",
    "    # 每个新闻的01向量\n",
    "    vector = [0] * labels_num\n",
    "    labels_names = str(data_array[i][1]).split(\" \")\n",
    "    #print(labels_names)\n",
    "    for j in range(len(labels_names)):\n",
    "        location = all_labels.index(labels_names[j])\n",
    "        vector[location] = 1\n",
    "\n",
    "    data_to_be_written.append(vector)\n",
    "\n",
    "# 将01矩阵写入“news01.xlsx”\n",
    "df = pd.DataFrame(data_to_be_written, index=all_items_names, columns=all_labels)\n",
    "df.to_excel(\"news01.xlsx\")\n",
    "\n",
    "# PS: 记得在生成的“news01.xlsx”中节目名那一列的首个空白的单元格中打上“新闻标题”"
   ]
  },
  {
   "cell_type": "code",
   "execution_count": null,
   "metadata": {},
   "outputs": [],
   "source": []
  },
  {
   "cell_type": "code",
   "execution_count": null,
   "metadata": {},
   "outputs": [],
   "source": []
  }
 ],
 "metadata": {
  "kernelspec": {
   "display_name": "Python 3",
   "language": "python",
   "name": "python3"
  },
  "language_info": {
   "codemirror_mode": {
    "name": "ipython",
    "version": 3
   },
   "file_extension": ".py",
   "mimetype": "text/x-python",
   "name": "python",
   "nbconvert_exporter": "python",
   "pygments_lexer": "ipython3",
   "version": "3.8.5"
  }
 },
 "nbformat": 4,
 "nbformat_minor": 4
}
