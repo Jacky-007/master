{
 "cells": [
  {
   "cell_type": "code",
   "execution_count": 2,
   "metadata": {},
   "outputs": [],
   "source": [
    "import numpy as np\n",
    "import pandas as pd\n",
    "import matplotlib.pylab as plt\n",
    "%matplotlib inline\n",
    "import os"
   ]
  },
  {
   "cell_type": "code",
   "execution_count": 3,
   "metadata": {},
   "outputs": [
    {
     "name": "stdout",
     "output_type": "stream",
     "text": [
      "(1498, 1024)\n"
     ]
    }
   ],
   "source": [
    "# 获取数据文件\n",
    "fileList = os.listdir('./data/trainingDigits/')\n",
    "\n",
    "# 定义数据标签列表\n",
    "trainingIndex = []\n",
    "# 添加数据标签\n",
    "for filename in fileList:\n",
    "    trainingIndex.append(int(filename.split('_')[0]))\n",
    "\n",
    "# 定义矩阵数据格式\n",
    "trainingData = np.zeros((len(trainingIndex),1024))\n",
    "print(trainingData.shape)#(1498, 1024)\n",
    "\n",
    "# 获取矩阵数据\n",
    "index = 0\n",
    "for filename in fileList:\n",
    "    with open('./data/trainingDigits/%s'%filename, 'rb') as f:\n",
    "        \n",
    "        # 定义一个空矩阵\n",
    "        vect = np.zeros((1,1024))\n",
    "        \n",
    "        # 循环32行\n",
    "        for i in range(32):\n",
    "            # 读取每一行数据\n",
    "            line = f.readline()\n",
    "            \n",
    "            # 遍历每行数据索引  line[j] 即为数据\n",
    "            for j in range(32):\n",
    "                vect[0,32*i+j] = int(line[j])\n",
    "        \n",
    "        trainingData[index,:] = vect\n",
    "        index+=1"
   ]
  },
  {
   "cell_type": "code",
   "execution_count": 3,
   "metadata": {},
   "outputs": [],
   "source": [
    "fileList2 = os.listdir('./data/testDigits/')\n",
    "\n",
    "# 定义数据标签列表\n",
    "testIndex = []\n",
    "# 获取数据标签\n",
    "for filename2 in fileList2:\n",
    "    testIndex.append(int(filename2.split('_')[0]))\n",
    "\n",
    "#读取测试数据 \n",
    "\n",
    "# 定义矩阵数据格式\n",
    "testData = np.zeros((len(testIndex),1024))\n",
    "testData.shape\n",
    "#(946, 1024)\n",
    "\n",
    "# 获取矩阵数据\n",
    "index = 0\n",
    "for filename2 in fileList2:\n",
    "    with open('./data/testDigits/%s'%filename2, 'rb') as f:\n",
    "        \n",
    "        # 定义一个空矩阵\n",
    "        vect = np.zeros((1,1024))\n",
    "        \n",
    "        # 循环32行\n",
    "        for i in range(32):\n",
    "            # 读取每一行数据\n",
    "            line = f.readline()\n",
    "            \n",
    "            # 遍历每行数据索引  line[j] 即为数据\n",
    "            for j in range(32):\n",
    "                vect[0,32*i+j] = int(line[j])\n",
    "        \n",
    "        testData[index,:] = vect\n",
    "        index+=1"
   ]
  },
  {
   "cell_type": "code",
   "execution_count": 4,
   "metadata": {},
   "outputs": [
    {
     "data": {
      "text/plain": [
       "KNeighborsClassifier(n_neighbors=3)"
      ]
     },
     "execution_count": 4,
     "metadata": {},
     "output_type": "execute_result"
    }
   ],
   "source": [
    "from sklearn.neighbors import KNeighborsClassifier\n",
    "\n",
    "# 定义k为3个, 即寻找最近的3个邻居\n",
    "knn = KNeighborsClassifier(n_neighbors=3)\n",
    "\n",
    "# 训练数据\n",
    "knn.fit(trainingData,trainingIndex)"
   ]
  },
  {
   "cell_type": "code",
   "execution_count": 6,
   "metadata": {},
   "outputs": [
    {
     "name": "stdout",
     "output_type": "stream",
     "text": [
      "[0 0 0 0 0 0 0 0 0 0 0 0 0 0 4 0 0 0 0 0 0 0 0 0 0 0 0 0 0 0 0 0 0 0 0 0 0\n",
      " 0 0 1 1 1 1 1 1 1 1 1 1 1 1 1 1 1 1 1 1 1 1 1 1 1 1 1 1 1 1 1 1 1 1 1 1 1\n",
      " 1 1 1 1 1 1 4 1 1 1 1 1 1 2 2 2 2 2 2 2 2 2 2 2 2 2 2 2 2 2 1 2 2 2 2 2 2\n",
      " 2 2 2 2 2 2 2 2 2 2 2 2 2 2 2 2 2 2 2 2 2 3 3 3 3 3 3 3 3 3 3 3 3 3 3 3 3\n",
      " 3 3 3 3 3 3 3 3 3 3 3 3 3 3 3 3 3 3 3 3 3 3 3 3 3 3 3 3 3 3 3 3 3 4 4 4 4\n",
      " 4 4 4 4 4 4 4 4 4 4 4 4 7 4 4 4 4 4 4 4 4 4 4 4 4 4 4 4 4 4 4 4 5 5 5 5 5\n",
      " 5 5 5 5 5 5 5 5 5 5 5 5 5 5 5 5 9 9 3 5 5 5 5 5 5 5 5 5 5 5 5 5 6 6 6 6 6\n",
      " 6 6 6 6 6 6 6 6 6 6 6 6 6 6 6 6 1 6 6 6 1 6 6 6 6 6 6 6 6 6 6 6 6 6 6 6 6\n",
      " 6 6 6 7 7 7 7 7 7 7 7 7 7 7 7 7 7 7 7 7 7 7 7 7 7 7 7 7 7 7 7 7 7 7 7 7 7\n",
      " 7 7 7 7 7 7 7 7 7 7 7 7 7 7 7 7 7 8 8 3 8 8 8 8 0 8 5 8 8 8 8 8 1 1 8 8 1\n",
      " 8 8 8 9 8 8 8 8 2 8 9 9 9 9 9 9 9 9 9 9 9 9 9 9 9 9 9 9 9 9 9 9 9 9 9 9 9\n",
      " 9 9 9 9 9 9 9 9 9 9 9 9 3 9 9 7 9 9 9 9 9 9 9 9 9 9 9]\n",
      "Wall time: 2.81 s\n"
     ]
    },
    {
     "data": {
      "text/plain": [
       "0.956221198156682"
      ]
     },
     "execution_count": 6,
     "metadata": {},
     "output_type": "execute_result"
    }
   ],
   "source": [
    "%%time\n",
    "# 预测数据 \n",
    "\n",
    "predict_data = knn.predict(testData)\n",
    "print(predict_data)\n",
    "# Wall time: 7.8 s\n",
    "knn.score(testData,testIndex)#0.9862579281183932\n",
    "# 识别正确率: 98.626%"
   ]
  },
  {
   "cell_type": "code",
   "execution_count": 8,
   "metadata": {},
   "outputs": [
    {
     "data": {
      "text/plain": [
       "434"
      ]
     },
     "execution_count": 8,
     "metadata": {},
     "output_type": "execute_result"
    }
   ],
   "source": [
    "len(predict_data)"
   ]
  },
  {
   "cell_type": "code",
   "execution_count": null,
   "metadata": {},
   "outputs": [],
   "source": []
  }
 ],
 "metadata": {
  "kernelspec": {
   "display_name": "Python 3",
   "language": "python",
   "name": "python3"
  },
  "language_info": {
   "codemirror_mode": {
    "name": "ipython",
    "version": 3
   },
   "file_extension": ".py",
   "mimetype": "text/x-python",
   "name": "python",
   "nbconvert_exporter": "python",
   "pygments_lexer": "ipython3",
   "version": "3.8.5"
  }
 },
 "nbformat": 4,
 "nbformat_minor": 4
}
