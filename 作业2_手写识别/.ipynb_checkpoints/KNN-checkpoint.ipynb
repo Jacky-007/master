{
 "cells": [
  {
   "cell_type": "code",
   "execution_count": 2,
   "metadata": {},
   "outputs": [],
   "source": [
    "import numpy as np\n",
    "import pandas as pd\n",
    "import matplotlib.pylab as plt\n",
    "%matplotlib inline\n",
    "import os"
   ]
  },
  {
   "cell_type": "code",
   "execution_count": 3,
   "metadata": {},
   "outputs": [
    {
     "name": "stdout",
     "output_type": "stream",
     "text": [
      "(1498, 1024)\n"
     ]
    }
   ],
   "source": [
    "# 获取数据文件\n",
    "fileList = os.listdir('./data/trainingDigits/')\n",
    "\n",
    "# 定义数据标签列表\n",
    "trainingIndex = []\n",
    "# 添加数据标签\n",
    "for filename in fileList:\n",
    "    trainingIndex.append(int(filename.split('_')[0]))\n",
    "\n",
    "# 定义矩阵数据格式\n",
    "trainingData = np.zeros((len(trainingIndex),1024))\n",
    "print(trainingData.shape)#(1498, 1024)\n",
    "\n",
    "# 获取矩阵数据\n",
    "index = 0\n",
    "for filename in fileList:\n",
    "    with open('./data/trainingDigits/%s'%filename, 'rb') as f:\n",
    "        \n",
    "        # 定义一个空矩阵\n",
    "        vect = np.zeros((1,1024))\n",
    "        \n",
    "        # 循环32行\n",
    "        for i in range(32):\n",
    "            # 读取每一行数据\n",
    "            line = f.readline()\n",
    "            \n",
    "            # 遍历每行数据索引  line[j] 即为数据\n",
    "            for j in range(32):\n",
    "                vect[0,32*i+j] = int(line[j])\n",
    "        \n",
    "        trainingData[index,:] = vect\n",
    "        index+=1"
   ]
  },
  {
   "cell_type": "code",
   "execution_count": 9,
   "metadata": {},
   "outputs": [
    {
     "name": "stdout",
     "output_type": "stream",
     "text": [
      "(946, 1024)\n"
     ]
    }
   ],
   "source": [
    "fileList2 = os.listdir('./data/testfile_4/')\n",
    "\n",
    "# 定义数据标签列表\n",
    "testIndex = []\n",
    "# 获取数据标签\n",
    "for filename2 in fileList2:\n",
    "    testIndex.append(int(filename2.split('.')[0]))\n",
    "\n",
    "#读取测试数据 \n",
    "\n",
    "# 定义矩阵数据格式\n",
    "testData = np.zeros((len(testIndex),1024))\n",
    "print(testData.shape)\n",
    "\n",
    "# 获取矩阵数据\n",
    "index = 0\n",
    "for filename2 in fileList2:\n",
    "    with open('./data/testfile_4/%s'%filename2, 'rb') as f:\n",
    "        \n",
    "        # 定义一个空矩阵\n",
    "        vect = np.zeros((1,1024))\n",
    "        \n",
    "        # 循环32行\n",
    "        for i in range(32):\n",
    "            # 读取每一行数据\n",
    "            line = f.readline()\n",
    "            \n",
    "            # 遍历每行数据索引  line[j] 即为数据\n",
    "            for j in range(32):\n",
    "                vect[0,32*i+j] = int(line[j])\n",
    "        \n",
    "        testData[index,:] = vect\n",
    "        index+=1"
   ]
  },
  {
   "cell_type": "code",
   "execution_count": 10,
   "metadata": {},
   "outputs": [
    {
     "data": {
      "text/plain": [
       "KNeighborsClassifier(n_neighbors=3)"
      ]
     },
     "execution_count": 10,
     "metadata": {},
     "output_type": "execute_result"
    }
   ],
   "source": [
    "from sklearn.neighbors import KNeighborsClassifier\n",
    "\n",
    "# 定义k为3个, 即寻找最近的3个邻居\n",
    "knn = KNeighborsClassifier(n_neighbors=3)\n",
    "\n",
    "# 训练数据\n",
    "knn.fit(trainingData,trainingIndex)"
   ]
  },
  {
   "cell_type": "code",
   "execution_count": 11,
   "metadata": {},
   "outputs": [
    {
     "name": "stdout",
     "output_type": "stream",
     "text": [
      "[6 7 4 8 5 7 9 2 9 4 3 2 5 0 9 4 7 9 7 4 4 1 9 6 0 3 0 5 2 3 4 0 5 4 2 8 6\n",
      " 1 2 0 2 9 8 6 0 2 9 3 3 7 2 9 5 9 9 0 2 4 3 1 6 2 7 3 3 5 6 2 5 8 6 5 2 5\n",
      " 0 1 7 6 8 6 4 8 8 7 6 8 0 8 2 2 5 8 7 6 9 2 6 4 4 5 4 6 9 5 7 1 4 5 2 4 1\n",
      " 0 7 7 8 1 8 0 9 9 9 0 1 6 3 9 7 1 2 8 6 8 7 5 4 8 8 6 4 5 4 8 5 6 7 7 1 2\n",
      " 6 3 7 5 8 1 6 6 5 6 3 6 4 1 1 9 5 1 4 3 6 1 7 7 3 9 7 4 7 2 4 3 8 2 6 7 8\n",
      " 9 3 0 6 0 9 8 8 3 3 9 2 8 5 3 1 0 5 9 4 1 7 3 0 7 0 5 8 7 7 4 0 9 0 1 0 6\n",
      " 2 2 7 1 6 3 4 6 4 3 6 8 0 8 3 5 0 4 6 5 1 4 4 4 8 7 5 1 2 9 4 0 4 6 1 0 4\n",
      " 1 8 6 1 7 4 8 3 6 4 6 3 4 3 0 6 2 1 2 0 0 6 5 3 4 3 2 0 4 1 4 8 2 2 9 4 9\n",
      " 0 4 7 0 4 1 2 6 8 5 8 7 6 9 8 1 6 9 5 5 4 2 3 4 9 3 9 6 1 9 4 8 2 4 1 8 8\n",
      " 3 4 2 9 7 7 7 1 5 2 7 9 0 9 7 9 7 5 7 7 4 1 9 1 2 0 1 5 1 2 3 1 0 6 6 5 7\n",
      " 9 0 0 4 7 0 9 0 0 9 2 2 5 1 4 0 9 0 3 9 3 5 1 3 8 0 8 3 5 0 8 4 5 5 2 0 4\n",
      " 7 1 0 5 4 5 2 6 2 7 8 0 8 4 5 1 4 0 1 2 5 5 0 2 7 2 4 3 5 9 3 6 2 5 7 8 0\n",
      " 6 9 3 5 0 3 5 2 0 6 8 6 5 4 5 8 3 2 2 4 7 4 5 9 2 8 4 6 6 1 3 4 6 9 6 3 0\n",
      " 7 1 4 8 7 1 3 6 9 5 2 4 9 8 3 4 5 8 7 7 6 9 6 2 4 1 3 1 1 6 2 4 5 3 1 0 5\n",
      " 5 7 0 4 8 4 6 4 6 0 2 0 1 4 3 3 6 1 1 1 1 8 7 3 3 3 7 0 5 2 5 4 5 3 1 7 7\n",
      " 4 4 0 3 1 5 9 0 7 8 6 1 7 6 5 4 5 4 0 5 7 6 7 4 3 4 9 1 4 9 7 1 2 3 1 8 5\n",
      " 1 8 8 5 5 1 9 8 4 8 7 2 1 4 0 7 0 4 3 7 9 2 5 1 1 5 8 5 3 1 8 2 8 0 2 1 3\n",
      " 4 3 6 2 0 7 9 7 8 5 4 3 9 8 7 6 4 5 5 3 3 1 9 7 3 6 4 7 7 9 4 5 5 7 2 4 6\n",
      " 9 2 8 1 9 8 0 7 8 8 1 7 6 1 6 1 3 7 3 9 7 6 5 8 0 3 1 8 5 2 0 0 7 5 9 9 7\n",
      " 6 5 5 5 1 2 0 5 0 7 9 4 2 9 8 8 6 5 7 3 4 6 8 1 3 5 2 6 3 1 7 5 1 1 4 5 2\n",
      " 0 2 5 9 0 7 9 4 1 6 2 7 7 2 8 9 9 8 7 2 3 2 4 5 0 1 4 6 7 2 5 2 4 0 7 5 3\n",
      " 9 9 9 3 9 5 6 1 2 2 7 3 1 6 2 4 1 5 4 9 1 0 2 8 8 2 2 1 8 8 7 9 4 0 0 6 7\n",
      " 7 0 6 2 9 6 1 1 1 1 5 6 4 5 4 4 8 5 2 2 4 4 2 5 9 1 2 5 3 5 8 9 1 6 3 1 4\n",
      " 7 5 9 9 8 7 4 5 6 9 5 4 0 5 3 7 6 7 9 4 4 5 1 0 8 8 2 3 8 0 2 3 1 0 1 9 3\n",
      " 1 5 5 9 1 8 2 8 3 6 9 0 8 7 9 9 4 4 3 3 1 8 2 2 6 5 3 4 0 4 8 0 6 0 7 4 3\n",
      " 6 3 5 9 6 1 4 4 2 9 3 0 2 4 7 7 7 6 0 5 3]\n",
      "Wall time: 4.02 s\n"
     ]
    }
   ],
   "source": [
    "%%time\n",
    "# 预测数据 \n",
    "\n",
    "predict_data = knn.predict(testData)\n",
    "print(predict_data)"
   ]
  },
  {
   "cell_type": "code",
   "execution_count": 16,
   "metadata": {},
   "outputs": [
    {
     "data": {
      "text/plain": [
       "946"
      ]
     },
     "execution_count": 16,
     "metadata": {},
     "output_type": "execute_result"
    }
   ],
   "source": [
    "len(predict_data)"
   ]
  },
  {
   "cell_type": "code",
   "execution_count": 15,
   "metadata": {},
   "outputs": [],
   "source": [
    "# 我们生成一个新的数据文本，并将所有结果写入新文件\n",
    "with open('10185102144-predictions.txt.csv', 'w',encoding='utf-8') as f:\n",
    "    for i in range(len(testIndex)):\n",
    "        f.write(str(testIndex[i])+' '+str(predict_data[i])+'\\n') \n",
    "f.close()"
   ]
  },
  {
   "cell_type": "code",
   "execution_count": null,
   "metadata": {},
   "outputs": [],
   "source": []
  }
 ],
 "metadata": {
  "kernelspec": {
   "display_name": "Python 3",
   "language": "python",
   "name": "python3"
  },
  "language_info": {
   "codemirror_mode": {
    "name": "ipython",
    "version": 3
   },
   "file_extension": ".py",
   "mimetype": "text/x-python",
   "name": "python",
   "nbconvert_exporter": "python",
   "pygments_lexer": "ipython3",
   "version": "3.8.5"
  }
 },
 "nbformat": 4,
 "nbformat_minor": 4
}
