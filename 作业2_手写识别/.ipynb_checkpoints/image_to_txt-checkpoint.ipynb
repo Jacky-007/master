{
 "cells": [
  {
   "cell_type": "code",
   "execution_count": 1,
   "metadata": {},
   "outputs": [],
   "source": [
    "from PIL import Image, ImageDraw\n",
    "import os"
   ]
  },
  {
   "cell_type": "code",
   "execution_count": 2,
   "metadata": {},
   "outputs": [],
   "source": [
    "#!/usr/bin/env python\n",
    "# -*- coding: utf-8 -*-\n",
    "import sys\n",
    "from PIL import Image\n",
    "# 将256灰度映射到16个字符上\n",
    "def image_to_text(pixels, width, height):\n",
    "    #symbols = \"MNHQ$OC?7>!:-;. \" # 16个字符\n",
    "    symbols = list(\"01\") # 这\n",
    "    #symbols = \"01\" # 只映射到2个字符，改为01结果如何？\n",
    "    string = \"\"\n",
    "    for h in range(height):\n",
    "        for w in range(width):\n",
    "            rgb = pixels[w, h]\n",
    "            string += symbols[int(sum(rgb) / 3.0 / 256.0 * len(symbols))]\n",
    "        string += \"\\n\"\n",
    "    return string\n",
    "    # 加载并调整大小\n",
    "def load_and_resize_image(imgname, width, height):\n",
    "    img = Image.open(imgname)\n",
    "    if img.mode != 'RGB':\n",
    "        img = img.convert('RGB')\n",
    "    w, h = img.size\n",
    "    rw = width * 1.0 / w\n",
    "    rh = height * 1.0 / h\n",
    "    r = rw if rw < rh else rh\n",
    "    rw = int(r * w)\n",
    "    rh = int(r * h)\n",
    "    img = img.resize((rw, rh), Image.ANTIALIAS)\n",
    "    return img\n",
    "# 图片转为文本\n",
    "def image_file_to_text(img_file_path, dst_width, dst_height):\n",
    "    img = load_and_resize_image(img_file_path, dst_width, dst_height)\n",
    "    pixels = img.load()\n",
    "    width, height = img.size\n",
    "    string = image_to_text(pixels, width, height)\n",
    "    return string"
   ]
  },
  {
   "cell_type": "code",
   "execution_count": 3,
   "metadata": {},
   "outputs": [
    {
     "name": "stdout",
     "output_type": "stream",
     "text": [
      "11111111111111111111111111111111\n",
      "11111111111111111111111111111111\n",
      "11111111111111111111111111111111\n",
      "11111111111111000001111111111111\n",
      "11111111111000000000001111111111\n",
      "11111111100000000000000111111111\n",
      "11111111100001111110000011111111\n",
      "11111111000011111111000001111111\n",
      "11111111000111111111100001111111\n",
      "11111111000111111111111101111111\n",
      "11111111000111111111111111111111\n",
      "11111111000011111111111111111111\n",
      "11111111000000111111111111111111\n",
      "11111111100000000111111111111111\n",
      "11111111110000000000011111111111\n",
      "11111111111100000000000111111111\n",
      "11111111111111100000000011111111\n",
      "11111111111111111110000001111111\n",
      "11111111111111111111100000111111\n",
      "11111111111111111111110000111111\n",
      "11111111111111111111110000111111\n",
      "11111110000111111111111000111111\n",
      "11111110000111111111110000111111\n",
      "11111110000011111111110000111111\n",
      "11111111000001111111000001111111\n",
      "11111111100000001000000011111111\n",
      "11111111110000000000000111111111\n",
      "11111111111100000000001111111111\n",
      "11111111111111111111111111111111\n",
      "11111111111111111111111111111111\n",
      "11111111111111111111111111111111\n",
      "11111111111111111111111111111111\n",
      "\n"
     ]
    }
   ],
   "source": [
    "imgfile = 'image/s.jpg'\n",
    "w,h = 32,32\n",
    "print(image_file_to_text(imgfile, w, h))"
   ]
  },
  {
   "cell_type": "code",
   "execution_count": 4,
   "metadata": {},
   "outputs": [
    {
     "data": {
      "text/plain": [
       "'11111111111111111111111111111111\\n11111111111111111111111111111111\\n11111111111111111111111111111111\\n11111111111111000001111111111111\\n11111111111000000000001111111111\\n11111111100000000000000111111111\\n11111111100001111110000011111111\\n11111111000011111111000001111111\\n11111111000111111111100001111111\\n11111111000111111111111101111111\\n11111111000111111111111111111111\\n11111111000011111111111111111111\\n11111111000000111111111111111111\\n11111111100000000111111111111111\\n11111111110000000000011111111111\\n11111111111100000000000111111111\\n11111111111111100000000011111111\\n11111111111111111110000001111111\\n11111111111111111111100000111111\\n11111111111111111111110000111111\\n11111111111111111111110000111111\\n11111110000111111111111000111111\\n11111110000111111111110000111111\\n11111110000011111111110000111111\\n11111111000001111111000001111111\\n11111111100000001000000011111111\\n11111111110000000000000111111111\\n11111111111100000000001111111111\\n11111111111111111111111111111111\\n11111111111111111111111111111111\\n11111111111111111111111111111111\\n11111111111111111111111111111111\\n'"
      ]
     },
     "execution_count": 4,
     "metadata": {},
     "output_type": "execute_result"
    }
   ],
   "source": [
    "a = image_file_to_text(imgfile, w, h)\n",
    "a"
   ]
  },
  {
   "cell_type": "code",
   "execution_count": 6,
   "metadata": {},
   "outputs": [],
   "source": [
    "i = 6"
   ]
  },
  {
   "cell_type": "code",
   "execution_count": 7,
   "metadata": {},
   "outputs": [],
   "source": [
    "fh = open(str(i)+'.txt', 'w', encoding='utf-8')\n",
    "fh.write(a)\n",
    "fh.close()"
   ]
  },
  {
   "cell_type": "code",
   "execution_count": 16,
   "metadata": {},
   "outputs": [],
   "source": [
    "fileList = os.listdir('./image')\n",
    "w,h = 32,32\n",
    "i = 0\n",
    "for imgfile in fileList:\n",
    "    a = image_file_to_text('image/'+imgfile, w, h)\n",
    "    fh = open('./r/'+str(i)+'.txt', 'w', encoding='utf-8')\n",
    "    fh.write(a)\n",
    "    i+=1\n",
    "    fh.close()"
   ]
  },
  {
   "cell_type": "code",
   "execution_count": null,
   "metadata": {},
   "outputs": [],
   "source": []
  },
  {
   "cell_type": "code",
   "execution_count": null,
   "metadata": {},
   "outputs": [],
   "source": []
  }
 ],
 "metadata": {
  "kernelspec": {
   "display_name": "Python 3",
   "language": "python",
   "name": "python3"
  },
  "language_info": {
   "codemirror_mode": {
    "name": "ipython",
    "version": 3
   },
   "file_extension": ".py",
   "mimetype": "text/x-python",
   "name": "python",
   "nbconvert_exporter": "python",
   "pygments_lexer": "ipython3",
   "version": "3.8.5"
  }
 },
 "nbformat": 4,
 "nbformat_minor": 4
}
