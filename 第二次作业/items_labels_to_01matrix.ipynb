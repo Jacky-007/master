{
 "cells": [
  {
   "cell_type": "code",
   "execution_count": null,
   "metadata": {},
   "outputs": [],
   "source": [
    "# 代码说明：\n",
    "# 根据\"D:\\Recommender Systems\\备选推荐节目集及所属类型.xlsx\"生成\"D:\\Recommender Systems\\备选推荐节目集及所属类型01矩阵表.xlsx\"\n",
    "\n",
    "import pandas as pd\n",
    "import numpy as np"
   ]
  },
  {
   "cell_type": "code",
   "execution_count": null,
   "metadata": {},
   "outputs": [],
   "source": [
    "if __name__ == '__main__':\n",
    "\n",
    "    df = pd.read_excel(\"D:\\Recommender Systems\\备选推荐节目集及所属类型.xlsx\")\n",
    "    (m, n) = df.shape\n",
    "\n",
    "    data_array = np.array(df.iloc[1:m+1,:])\n",
    "\n",
    "    # 按指定顺序排列的所有标签\n",
    "    all_labels = ['教育', '戏曲', '悬疑', '科幻', '惊悚', '动作', '资讯', '武侠', '剧情', '警匪', '生活', '军事', '言情', '体育', '冒险', '纪实', '少儿教育', '少儿', '综艺', '古装', '搞笑', '广告']\n",
    "    labels_num = len(all_labels)\n",
    "\n",
    "    # 按顺序提取所有节目的名称\n",
    "    all_items_names = np.array(df.iloc[:m+1, 0])[1:]\n",
    "\n",
    "    # 创建一个01矩阵，0表示该节目不属于该类型，1表示该节目属于该类型\n",
    "    data_to_be_written = []\n",
    "\n",
    "    for i in range(len(all_items_names)):\n",
    "\n",
    "        # 每个节目的01行向量\n",
    "        vector = [0] * labels_num\n",
    "        labels_names = str(data_array[i][1]).split(\" \")\n",
    "\n",
    "        for j in range(len(labels_names)):\n",
    "            location = all_labels.index(labels_names[j])\n",
    "            vector[location] = 1\n",
    "\n",
    "        data_to_be_written.append(vector)\n",
    "\n",
    "    # 将01矩阵写入“备选推荐节目集及所属类型01矩阵表”\n",
    "    df = pd.DataFrame(data_to_be_written, index=all_items_names, columns=all_labels)\n",
    "    df.to_excel(\"D:\\Recommender Systems\\备选推荐节目集及所属类型01矩阵表.xlsx\")\n",
    "    \n",
    "    # PS: 记得在生成的“备选推荐节目集及所属类型01矩阵表”中节目名那一列的首个空白的单元格中打上“节目名”"
   ]
  }
 ],
 "metadata": {
  "kernelspec": {
   "display_name": "Python 3",
   "language": "python",
   "name": "python3"
  },
  "language_info": {
   "codemirror_mode": {
    "name": "ipython",
    "version": 3
   },
   "file_extension": ".py",
   "mimetype": "text/x-python",
   "name": "python",
   "nbconvert_exporter": "python",
   "pygments_lexer": "ipython3",
   "version": "3.8.5"
  }
 },
 "nbformat": 4,
 "nbformat_minor": 4
}
