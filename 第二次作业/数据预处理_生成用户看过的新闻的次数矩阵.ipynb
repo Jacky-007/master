{
 "cells": [
  {
   "cell_type": "code",
   "execution_count": null,
   "metadata": {},
   "outputs": [],
   "source": [
    "import pandas as pd\n",
    "import numpy as np"
   ]
  },
  {
   "cell_type": "code",
   "execution_count": null,
   "metadata": {},
   "outputs": [],
   "source": [
    "df = pd.read_csv(r'test\\test.tsv',sep = '\\t')\n",
    "(m, n) = df.shape\n",
    "df"
   ]
  },
  {
   "cell_type": "code",
   "execution_count": null,
   "metadata": {},
   "outputs": [],
   "source": [
    "# 按顺序提取所有用户名\n",
    "all_user_names = np.array(df.iloc[:m+1, 0])[1:]\n",
    "all_user_names"
   ]
  },
  {
   "cell_type": "code",
   "execution_count": null,
   "metadata": {},
   "outputs": [],
   "source": [
    "df2 = pd.read_csv(r'test\\test_news.tsv',sep = '\\t')\n",
    "(m1,n1) = df2.shape\n",
    "# 按顺序提取所有新闻代号\n",
    "all_items_names = np.array(df2.iloc[:m1+1, 0])[1:]\n",
    "items_num = len(all_items_names)\n",
    "all_items_names"
   ]
  },
  {
   "cell_type": "code",
   "execution_count": null,
   "metadata": {},
   "outputs": [],
   "source": [
    "all_items_names1 = all_items_names.tolist()\n",
    "all_items_names1"
   ]
  },
  {
   "cell_type": "code",
   "execution_count": null,
   "metadata": {},
   "outputs": [],
   "source": [
    "#函数说明：输入data_array，行(m),获取该行的新闻标题列表，p = 3的时候获取history，p = 4的时候获取impression\n",
    "def title(data_array,m,p):\n",
    "    s = str(data_array[m][p])\n",
    "    s1 = s.split(' ')\n",
    "    return s1"
   ]
  },
  {
   "cell_type": "code",
   "execution_count": null,
   "metadata": {},
   "outputs": [],
   "source": [
    "data_array = np.array(df.iloc[:m+1,:])\n",
    "data_array"
   ]
  },
  {
   "cell_type": "code",
   "execution_count": null,
   "metadata": {},
   "outputs": [],
   "source": [
    "# 按顺序提取所有新闻代号\n",
    "all_users_names = np.array(df.iloc[:m+1, 0])[1:]\n",
    "all_users_names"
   ]
  },
  {
   "cell_type": "code",
   "execution_count": null,
   "metadata": {},
   "outputs": [],
   "source": [
    "# 创建一个01矩阵，0表示该新闻不属于该类型，1表示该新闻属于该类型\n",
    "data_to_be_written = []"
   ]
  },
  {
   "cell_type": "code",
   "execution_count": null,
   "metadata": {},
   "outputs": [],
   "source": [
    "for i in range(len(all_user_names)):\n",
    "\n",
    "    # 每个新闻的01向量\n",
    "    vector = [0] * items_num\n",
    "    #news_names_list = str(data_array[i][0]).split(\" \")\n",
    "    news_names_list = title(data_array,i,3)\n",
    "    for j in range(len(news_names_list)):\n",
    "        if (news_names_list[j] in all_items_names1):\n",
    "            location = all_items_names1.index(news_names_list[j])\n",
    "            vector[location] += 1\n",
    "\n",
    "    data_to_be_written.append(vector)\n",
    "\n",
    "data_to_be_written = np.transpose(data_to_be_written)\n",
    "# 将01矩阵写入“news01.xlsx”\n",
    "df = pd.DataFrame(data_to_be_written, index=all_items_names, columns=all_users_names)\n",
    "df.to_excel(\"news_user_saw.xlsx\")\n",
    "\n",
    "# PS: 记得在生成的“news01.xlsx”中节目名那一列的首个空白的单元格中打上“新闻标题”"
   ]
  }
 ],
 "metadata": {
  "kernelspec": {
   "display_name": "Python 3",
   "language": "python",
   "name": "python3"
  },
  "language_info": {
   "codemirror_mode": {
    "name": "ipython",
    "version": 3
   },
   "file_extension": ".py",
   "mimetype": "text/x-python",
   "name": "python",
   "nbconvert_exporter": "python",
   "pygments_lexer": "ipython3",
   "version": "3.8.5"
  }
 },
 "nbformat": 4,
 "nbformat_minor": 4
}
