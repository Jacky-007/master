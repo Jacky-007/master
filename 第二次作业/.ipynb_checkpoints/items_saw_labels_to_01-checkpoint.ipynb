{
 "cells": [
  {
   "cell_type": "code",
   "execution_count": null,
   "metadata": {},
   "outputs": [],
   "source": [
    "# 代码说明：\n",
    "# 根据\"D:\\Recommender Systems\\用户A/B/C对于其三个月来所看过节目的评分.xls\"\n",
    "# 生成\"D:\\Recommender Systems\\所有用户看过的节目及所属类型的01矩阵.xlsx\"\n",
    "import pandas as pd\n",
    "import numpy as np\n",
    "\n",
    "if __name__ == '__main__':\n",
    "\n",
    "    all_users_names = ['A', 'B', 'C']\n",
    "\n",
    "    # 所有用户看过的节目名 all_items_users_saw = [item2, item3, item4]\n",
    "    # 所有用户看过的节目名对应的类型 all_items_users_saw_labels = [\"label2 label3\", \"label3\", ...]\n",
    "    all_items_users_saw = []\n",
    "    all_items_users_saw_labels = []\n",
    "\n",
    "    for j in range(len(all_users_names)):\n",
    "\n",
    "        fileToBeRead = \"D:\\Recommender Systems\\用户\" + all_users_names[j] + \"对于其三个月来所看过节目的评分.xls\"\n",
    "        df = pd.read_excel(fileToBeRead)\n",
    "        (m, n) = df.shape\n",
    "        data_array = np.array(df)\n",
    "\n",
    "        for i in range(m):\n",
    "            # 不重复记录相同的节目\n",
    "            if data_array[i][2] not in all_items_users_saw:\n",
    "                all_items_users_saw.append(data_array[i][2])\n",
    "                all_items_users_saw_labels.append(data_array[i][3])\n",
    "\n",
    "    # 生成\"所有用户看过的节目及所属类型的01矩阵\"\n",
    "    all_labels = ['教育', '戏曲', '悬疑', '科幻', '惊悚', '动作', '资讯', '武侠', '剧情', '警匪', '生活', '军事', '言情', '体育', '冒险', '纪实', '少儿教育', '少儿', '综艺', '古装', '搞笑', '广告']\n",
    "    labels_num = len(all_labels)\n",
    "\n",
    "    all_items_labels_01_vectors = []\n",
    "\n",
    "    for i in range(len(all_items_users_saw)):\n",
    "        vector = [0] * labels_num\n",
    "        labels_names = all_items_users_saw_labels[i].split(\" \")\n",
    "\n",
    "        for j in range(len(labels_names)):\n",
    "            location = all_labels.index(labels_names[j])\n",
    "            vector[location] = 1\n",
    "\n",
    "        all_items_labels_01_vectors.append(vector)\n",
    "\n",
    "    df = pd.DataFrame(all_items_labels_01_vectors, index=all_items_users_saw, columns=all_labels)\n",
    "    df.to_excel(\"D:\\Recommender Systems\\所有用户看过的节目及所属类型的01矩阵.xlsx\")\n",
    "\n",
    "    # PS: 记得在生成的“所有用户看过的节目及所属类型的01矩阵表”中节目名那一列的首个空白的单元格中打上“节目名”\n"
   ]
  }
 ],
 "metadata": {
  "kernelspec": {
   "display_name": "Python 3",
   "language": "python",
   "name": "python3"
  },
  "language_info": {
   "codemirror_mode": {
    "name": "ipython",
    "version": 3
   },
   "file_extension": ".py",
   "mimetype": "text/x-python",
   "name": "python",
   "nbconvert_exporter": "python",
   "pygments_lexer": "ipython3",
   "version": "3.8.5"
  }
 },
 "nbformat": 4,
 "nbformat_minor": 4
}
