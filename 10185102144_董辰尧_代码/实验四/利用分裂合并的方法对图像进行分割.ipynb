{
 "cells": [
  {
   "cell_type": "code",
   "execution_count": 1,
   "metadata": {},
   "outputs": [],
   "source": [
    "import numpy as np\n",
    "import cv2 \n",
    "import matplotlib.pyplot as plt # plt 用于显示图片"
   ]
  },
  {
   "cell_type": "code",
   "execution_count": 2,
   "metadata": {},
   "outputs": [],
   "source": [
    "#判断方框是否需要再次拆分为四个\n",
    "def judge(w0, h0, w, h):\n",
    "    a = img[h0: h0 + h, w0: w0 + w]\n",
    "    ave = np.mean(a)\n",
    "    std = np.std(a, ddof=1)\n",
    "    count = 0\n",
    "    total = 0\n",
    "    for i in range(w0, w0 + w):\n",
    "        for j in range(h0, h0 + h):\n",
    "        #注意！我输入的图片数灰度图，所以直接用的img[j,i]，RGB图像的话每个img像素是一个三维向量，不能直接与avg进行比较大小。\n",
    "            if abs(img[j, i] - ave) < 1 * std:\n",
    "                count += 1\n",
    "            total += 1\n",
    "    if (count / total) < 0.95:#合适的点还是比较少，接着拆\n",
    "        return True\n",
    "    else:\n",
    "        return False"
   ]
  },
  {
   "cell_type": "code",
   "execution_count": 3,
   "metadata": {},
   "outputs": [],
   "source": [
    "#将图像将根据阈值二值化处理，在此默认125\n",
    "def draw(w0, h0, w, h):\n",
    "    for i in range(w0, w0 + w):\n",
    "        for j in range(h0, h0 + h):\n",
    "            if img[j, i] > 125:\n",
    "                img[j, i] = 255\n",
    "            else:\n",
    "                img[j, i] = 0\n"
   ]
  },
  {
   "cell_type": "code",
   "execution_count": 4,
   "metadata": {},
   "outputs": [],
   "source": [
    "def function(w0, h0, w, h):\n",
    "    if judge(w0, h0, w, h) and (min(w, h) > 5):\n",
    "        function(w0, h0, int(w / 2), int(h / 2))\n",
    "        function(w0 + int(w / 2), h0, int(w / 2), int(h / 2))\n",
    "        function(w0, h0 + int(h / 2), int(w / 2), int(h / 2))\n",
    "        function(w0 + int(w / 2), h0 + int(h / 2), int(w / 2), int(h / 2))\n",
    "    else:\n",
    "        draw(w0, h0, w, h)"
   ]
  },
  {
   "cell_type": "code",
   "execution_count": 5,
   "metadata": {},
   "outputs": [],
   "source": [
    "img = cv2.imread('test.jpg', 0)\n",
    "img_input = cv2.imread('test.jpg', 0)#备份\n",
    "\n",
    "height, width = img.shape\n",
    "\n",
    "function(0, 0, width, height)\n",
    "\n",
    "cv2.imshow('input',img_input)\n",
    "cv2.imshow('output',img)\n",
    "\n",
    "cv2.waitKey()\n",
    "cv2.destroyAllWindows()"
   ]
  }
 ],
 "metadata": {
  "kernelspec": {
   "display_name": "Python 3",
   "language": "python",
   "name": "python3"
  },
  "language_info": {
   "codemirror_mode": {
    "name": "ipython",
    "version": 3
   },
   "file_extension": ".py",
   "mimetype": "text/x-python",
   "name": "python",
   "nbconvert_exporter": "python",
   "pygments_lexer": "ipython3",
   "version": "3.8.5"
  }
 },
 "nbformat": 4,
 "nbformat_minor": 4
}
