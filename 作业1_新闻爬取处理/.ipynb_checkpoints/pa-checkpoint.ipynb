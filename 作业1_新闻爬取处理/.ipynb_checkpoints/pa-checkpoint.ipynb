{
 "cells": [
  {
   "cell_type": "code",
   "execution_count": 7,
   "metadata": {},
   "outputs": [],
   "source": [
    "# 加载访问url资源的库\n",
    "from bs4 import BeautifulSoup\n",
    "import requests"
   ]
  },
  {
   "cell_type": "code",
   "execution_count": 8,
   "metadata": {},
   "outputs": [],
   "source": [
    "url = \"http://www.chinanews.com/\"\n",
    "html = requests.get(url) # 获取网页\n",
    "soup = BeautifulSoup(html.content,\"html.parser\") # 将该网页转化为 BeautifulSoup 对象\n",
    "#print(soup.prettify()) # 格式化打印网页，确认获取数据"
   ]
  },
  {
   "cell_type": "code",
   "execution_count": 10,
   "metadata": {},
   "outputs": [
    {
     "name": "stdout",
     "output_type": "stream",
     "text": [
      "时政\n",
      "http://www.chinanews.com/china/\n"
     ]
    },
    {
     "name": "stderr",
     "output_type": "stream",
     "text": [
      "Some characters could not be decoded, and were replaced with REPLACEMENT CHARACTER.\n"
     ]
    },
    {
     "name": "stdout",
     "output_type": "stream",
     "text": [
      "嫦娥四号和“玉兔二号”顺利唤醒 进入第29月昼工作期\n",
      "北京市教委副主任张洋主动投案接受审查调查\n",
      "两部门：2021年全国计划招聘特岗教师84330名\n",
      "\n",
      "国际\n",
      "http://www.chinanews.com/world/\n"
     ]
    },
    {
     "name": "stderr",
     "output_type": "stream",
     "text": [
      "Some characters could not be decoded, and were replaced with REPLACEMENT CHARACTER.\n"
     ]
    },
    {
     "name": "stdout",
     "output_type": "stream",
     "text": [
      "·南非油价大幅上涨创历史新高\n",
      "·脸书回应逾5亿用户信息遭泄露：系黑客于2019年抓取\n",
      "·印度男子遭两警察殴打 只因口罩没戴好\n",
      "\n",
      "社会\n",
      "http://www.chinanews.com/society/\n"
     ]
    },
    {
     "name": "stderr",
     "output_type": "stream",
     "text": [
      "Some characters could not be decoded, and were replaced with REPLACEMENT CHARACTER.\n"
     ]
    },
    {
     "name": "stdout",
     "output_type": "stream",
     "text": [
      "哈尔滨气温持续回升 松花江岸边融冰夕阳下五彩缤纷\n",
      "清明时节湖南常宁村民采茶忙\n",
      "13位藏传佛教僧人获得格西拉让巴学位\n",
      "\n",
      "财经\n",
      "http://www.chinanews.com/finance/\n"
     ]
    },
    {
     "name": "stderr",
     "output_type": "stream",
     "text": [
      "Some characters could not be decoded, and were replaced with REPLACEMENT CHARACTER.\n"
     ]
    },
    {
     "name": "stdout",
     "output_type": "stream",
     "text": [
      "工信部：适老版APP禁广告弹窗 网站需提供特大字体\n",
      "声誉不好、身份不明 小额贷款公司出路在哪里？\n",
      "各界大佬竞相跨行造车 电动汽车到底香在哪里？\n",
      "\n",
      "产经\n",
      "http://www.chinanews.com/business/\n"
     ]
    },
    {
     "name": "stderr",
     "output_type": "stream",
     "text": [
      "Some characters could not be decoded, and were replaced with REPLACEMENT CHARACTER.\n"
     ]
    },
    {
     "name": "stdout",
     "output_type": "stream",
     "text": [
      "清明火了乡村游，“人气王”还需产业旺\n",
      "银联商务“捷付”打通“智慧献血”服务最后一公里\n",
      "2021第四届“优路杯”全国BIM技术大赛启动\n",
      "\n",
      "金融\n",
      "http://www.chinanews.com/fortune/\n"
     ]
    },
    {
     "name": "stderr",
     "output_type": "stream",
     "text": [
      "Some characters could not be decoded, and were replaced with REPLACEMENT CHARACTER.\n"
     ]
    },
    {
     "name": "stdout",
     "output_type": "stream",
     "text": [
      "深交所主板中小板今起合并 规模将超20万亿元\n",
      "财政部决定发行2021年第一期和第二期储蓄国债(电子式)\t\n",
      "银行清理“沉睡卡”应更人性化\n",
      "\n",
      "汽车\n",
      "http://www.chinanews.com/auto/\n",
      "全国机动车保有量达3.78亿辆 新注册量创同期历史新高\n",
      "评论：车内隐私不是你想采，就能采！\n",
      "通用汽车第一季度在中国市场销量持续反弹 同比增长69%\n",
      "\n",
      "港澳\n",
      "http://www.chinanews.com/gangao/\n"
     ]
    },
    {
     "name": "stderr",
     "output_type": "stream",
     "text": [
      "Some characters could not be decoded, and were replaced with REPLACEMENT CHARACTER.\n"
     ]
    },
    {
     "name": "stdout",
     "output_type": "stream",
     "text": [
      "苏永安：完善香港选举制度才能让民主更优质\n",
      "反中乱港分子黎智英等3人认罪 涉嫌参与未经批准集结案\n",
      "调查：全球财富自由门槛伦敦最高 香港居民需400万美元\n",
      "\n",
      "台湾\n",
      "http://www.chinanews.com/taiwan/\n"
     ]
    },
    {
     "name": "stderr",
     "output_type": "stream",
     "text": [
      "Some characters could not be decoded, and were replaced with REPLACEMENT CHARACTER.\n"
     ]
    },
    {
     "name": "stdout",
     "output_type": "stream",
     "text": [
      "台湾外销菠萝屡传黑心 陈吉仲称或是新客户储存不当\n",
      "台铁太鲁阁号脱轨前最后画面曝光 司机已尽最大努力\n",
      "台胞在武汉跨界“剧本杀”：助力两岸青年文化交流\n",
      "\n",
      "华人\n",
      "http://www.chinanews.com/huaren/\n"
     ]
    },
    {
     "name": "stderr",
     "output_type": "stream",
     "text": [
      "Some characters could not be decoded, and were replaced with REPLACEMENT CHARACTER.\n"
     ]
    },
    {
     "name": "stdout",
     "output_type": "stream",
     "text": [
      "驻黎巴嫩大使馆发布关于在黎中国公民接种国产新冠疫苗的通知\n",
      "外海面：广东侨乡江门用“竹升”压出的家乡面\n",
      "旧金山华裔老翁遭谋杀案 两嫌犯认罪听证会再延期\n",
      "\n",
      "娱乐\n",
      "http://www.chinanews.com/ent/\n"
     ]
    },
    {
     "name": "stderr",
     "output_type": "stream",
     "text": [
      "Some characters could not be decoded, and were replaced with REPLACEMENT CHARACTER.\n"
     ]
    },
    {
     "name": "stdout",
     "output_type": "stream",
     "text": [
      "《阿凡达》无法解决全球电影产业的困境\n",
      "李安获颁英国奥斯卡终身成就奖 华人导演第一人\n",
      "@家长，娃看的动画片你筛选没？\n",
      "\n",
      "体育\n",
      "http://www.chinanews.com/sports/\n"
     ]
    },
    {
     "name": "stderr",
     "output_type": "stream",
     "text": [
      "Some characters could not be decoded, and were replaced with REPLACEMENT CHARACTER.\n"
     ]
    },
    {
     "name": "stdout",
     "output_type": "stream",
     "text": [
      "中韩女足奥预赛即将打响 王霜领衔中国女足出战\n",
      "西甲英超豪门对决，皇马首回合主场以3比1击败利物浦\n",
      "八夺世界冠军后从棋手转型为教练 畅谈今后事业发展蓝图\n",
      "\n",
      "文化\n",
      "http://www.chinanews.com/cul/\n"
     ]
    },
    {
     "name": "stderr",
     "output_type": "stream",
     "text": [
      "Some characters could not be decoded, and were replaced with REPLACEMENT CHARACTER.\n"
     ]
    },
    {
     "name": "stdout",
     "output_type": "stream",
     "text": [
      "豆瓣用户差评书籍后被举报，翻译圈正在恶性循环？\n",
      "上万尊造像悉数收入画卷 他在纸上“复刻”大足石刻\n",
      "影响了鲁迅，被朱自清激赏，但这个诗人你却不曾听说\n",
      "\n",
      "839\n"
     ]
    }
   ],
   "source": [
    "all_news = []\n",
    "navbar = soup.find(name='ul',attrs={\"class\":\"nav_navcon\"}).findAll(\"a\") \n",
    "for nav in navbar[1:14]: # 取第一栏\n",
    "    print(nav.string)\n",
    "    if nav['href'][:5]!=\"http:\": \n",
    "        url_nav = \"http:\" + nav['href'] # 获取改板块的url\n",
    "    print(url_nav)\n",
    "    html_nav = requests.get(url_nav) \n",
    "    soup_nav = BeautifulSoup(html_nav.content,\"html.parser\")\n",
    " \n",
    "    count = 0 # 控制打印新闻条数\n",
    "    for n in soup_nav.findAll(\"li\") + soup_nav.findAll(\"em\") + soup_nav.findAll(\"h1\"): # 寻找新闻 \n",
    "        if n.a and n.a.string and len(n.a.string) > 7: \n",
    "            if nav.string == '时政':\n",
    "                nav.string = '0'\n",
    "            if nav.string == '国际':\n",
    "                nav.string = '1'\n",
    "            if nav.string == '华人':\n",
    "                nav.string = '1'\n",
    "            if nav.string == '社会':\n",
    "                nav.string = '2'\n",
    "            if nav.string == '财经':\n",
    "                nav.string = '3'\n",
    "            if nav.string == '金融':\n",
    "                nav.string = '3'\n",
    "            if nav.string == '产经':\n",
    "                nav.string = '3'\n",
    "            if nav.string == '汽车':\n",
    "                nav.string = '5'\n",
    "            if nav.string == '港澳':\n",
    "                nav.string = '4'\n",
    "            if nav.string == '台湾':\n",
    "                nav.string = '4'\n",
    "            if nav.string == '娱乐':\n",
    "                nav.string = '6'\n",
    "            if nav.string == '体育':\n",
    "                nav.string = '7'\n",
    "            if nav.string == '文化':\n",
    "                nav.string = '8'\n",
    "            all_news.append(nav.string+','+n.a.string) \n",
    "            if count < 3: \n",
    "                print(n.a.string) \n",
    "                count += 1\n",
    "    print()\n",
    "print(len(all_news))"
   ]
  },
  {
   "cell_type": "code",
   "execution_count": 11,
   "metadata": {},
   "outputs": [],
   "source": [
    "# 我们生成一个新的数据文本，并将所有新闻标题写入新文件\n",
    "with open('all_news.csv', 'a+',encoding='utf-8') as f:\n",
    "    for i in range(len(all_news)):\n",
    "        f.write(str(all_news[i])+'\\n') \n",
    "f.close()"
   ]
  },
  {
   "cell_type": "code",
   "execution_count": 12,
   "metadata": {},
   "outputs": [],
   "source": [
    "# 必要准备工作：导入库，配置环境等\n",
    "from __future__ import division\n",
    "import os, sys\n",
    "# 导入库并为库起个别名\n",
    "import numpy as np\n",
    "import pandas as pd\n",
    "from pandas import Series, DataFrame\n",
    "br = '\\n'\n",
    "# 启动绘图\n",
    "%matplotlib inline"
   ]
  },
  {
   "cell_type": "code",
   "execution_count": 13,
   "metadata": {},
   "outputs": [
    {
     "data": {
      "text/html": [
       "<div>\n",
       "<style scoped>\n",
       "    .dataframe tbody tr th:only-of-type {\n",
       "        vertical-align: middle;\n",
       "    }\n",
       "\n",
       "    .dataframe tbody tr th {\n",
       "        vertical-align: top;\n",
       "    }\n",
       "\n",
       "    .dataframe thead th {\n",
       "        text-align: right;\n",
       "    }\n",
       "</style>\n",
       "<table border=\"1\" class=\"dataframe\">\n",
       "  <thead>\n",
       "    <tr style=\"text-align: right;\">\n",
       "      <th></th>\n",
       "      <th>type</th>\n",
       "      <th>content</th>\n",
       "    </tr>\n",
       "  </thead>\n",
       "  <tbody>\n",
       "    <tr>\n",
       "      <td>0</td>\n",
       "      <td>type</td>\n",
       "      <td>content</td>\n",
       "    </tr>\n",
       "    <tr>\n",
       "      <td>1</td>\n",
       "      <td>0</td>\n",
       "      <td>新冠病毒疫苗接种问答来了！涉及34个关键问题</td>\n",
       "    </tr>\n",
       "    <tr>\n",
       "      <td>2</td>\n",
       "      <td>0</td>\n",
       "      <td>国家移民管理机构将启用队旗和标志</td>\n",
       "    </tr>\n",
       "    <tr>\n",
       "      <td>3</td>\n",
       "      <td>0</td>\n",
       "      <td>美中政策基金会主席：中美知识鸿沟恐将伤害美国外交</td>\n",
       "    </tr>\n",
       "    <tr>\n",
       "      <td>4</td>\n",
       "      <td>0</td>\n",
       "      <td>解析新冠重组亚单位蛋白疫苗：精准识别病毒最核心部分</td>\n",
       "    </tr>\n",
       "    <tr>\n",
       "      <td>...</td>\n",
       "      <td>...</td>\n",
       "      <td>...</td>\n",
       "    </tr>\n",
       "    <tr>\n",
       "      <td>4996</td>\n",
       "      <td>8</td>\n",
       "      <td>是什么让顾颉刚与费孝通纠葛一甲子？</td>\n",
       "    </tr>\n",
       "    <tr>\n",
       "      <td>4997</td>\n",
       "      <td>8</td>\n",
       "      <td>三星堆90后考古人：能下工地会涂鸦 用文字“监控”全场</td>\n",
       "    </tr>\n",
       "    <tr>\n",
       "      <td>4998</td>\n",
       "      <td>8</td>\n",
       "      <td>上万尊造像悉数收入画卷 他在纸上“复刻”大足石刻</td>\n",
       "    </tr>\n",
       "    <tr>\n",
       "      <td>4999</td>\n",
       "      <td>8</td>\n",
       "      <td>是什么让顾颉刚与费孝通纠葛一甲子？</td>\n",
       "    </tr>\n",
       "    <tr>\n",
       "      <td>5000</td>\n",
       "      <td>8</td>\n",
       "      <td>演《雷雨》如果味不对 观众比导演还“专业”</td>\n",
       "    </tr>\n",
       "  </tbody>\n",
       "</table>\n",
       "<p>5001 rows × 2 columns</p>\n",
       "</div>"
      ],
      "text/plain": [
       "      type                      content\n",
       "0     type                      content\n",
       "1        0       新冠病毒疫苗接种问答来了！涉及34个关键问题\n",
       "2        0             国家移民管理机构将启用队旗和标志\n",
       "3        0     美中政策基金会主席：中美知识鸿沟恐将伤害美国外交\n",
       "4        0    解析新冠重组亚单位蛋白疫苗：精准识别病毒最核心部分\n",
       "...    ...                          ...\n",
       "4996     8            是什么让顾颉刚与费孝通纠葛一甲子？\n",
       "4997     8  三星堆90后考古人：能下工地会涂鸦 用文字“监控”全场\n",
       "4998     8     上万尊造像悉数收入画卷 他在纸上“复刻”大足石刻\n",
       "4999     8            是什么让顾颉刚与费孝通纠葛一甲子？\n",
       "5000     8        演《雷雨》如果味不对 观众比导演还“专业”\n",
       "\n",
       "[5001 rows x 2 columns]"
      ]
     },
     "execution_count": 13,
     "metadata": {},
     "output_type": "execute_result"
    }
   ],
   "source": [
    "#使用read_csv来读取csv，默认分隔符为逗号\n",
    "news = pd.read_csv('all_news.csv', names=['type', 'content'],encoding='utf-8')\n",
    "news"
   ]
  }
 ],
 "metadata": {
  "kernelspec": {
   "display_name": "Python 3",
   "language": "python",
   "name": "python3"
  },
  "language_info": {
   "codemirror_mode": {
    "name": "ipython",
    "version": 3
   },
   "file_extension": ".py",
   "mimetype": "text/x-python",
   "name": "python",
   "nbconvert_exporter": "python",
   "pygments_lexer": "ipython3",
   "version": "3.7.4"
  }
 },
 "nbformat": 4,
 "nbformat_minor": 2
}
