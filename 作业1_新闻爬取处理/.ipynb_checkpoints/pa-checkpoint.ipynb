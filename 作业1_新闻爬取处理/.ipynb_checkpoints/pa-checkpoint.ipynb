{
 "cells": [
  {
   "cell_type": "code",
   "execution_count": 4,
   "metadata": {},
   "outputs": [],
   "source": [
    "# 加载访问url资源的库\n",
    "from bs4 import BeautifulSoup\n",
    "import requests"
   ]
  },
  {
   "cell_type": "code",
   "execution_count": 5,
   "metadata": {},
   "outputs": [],
   "source": [
    "url = \"http://www.chinanews.com/\"\n",
    "html = requests.get(url) # 获取网页\n",
    "soup = BeautifulSoup(html.content,\"html.parser\") # 将该网页转化为 BeautifulSoup 对象\n",
    "#print(soup.prettify()) # 格式化打印网页，确认获取数据"
   ]
  },
  {
   "cell_type": "code",
   "execution_count": 6,
   "metadata": {},
   "outputs": [
    {
     "name": "stdout",
     "output_type": "stream",
     "text": [
      "时政\n",
      "http://www.chinanews.com/china/\n"
     ]
    },
    {
     "name": "stderr",
     "output_type": "stream",
     "text": [
      "Some characters could not be decoded, and were replaced with REPLACEMENT CHARACTER.\n"
     ]
    },
    {
     "name": "stdout",
     "output_type": "stream",
     "text": [
      "公安部：清明假期期间道路交通安全风险复杂严峻\n",
      "教育部：不得在校园内通过举办讲座等销售课外读物\n",
      "教育部明确3个睡眠时间要求 小学生每天应睡10小时\n",
      "\n",
      "国际\n",
      "http://www.chinanews.com/world/\n"
     ]
    },
    {
     "name": "stderr",
     "output_type": "stream",
     "text": [
      "Some characters could not be decoded, and were replaced with REPLACEMENT CHARACTER.\n"
     ]
    },
    {
     "name": "stdout",
     "output_type": "stream",
     "text": [
      "·秘鲁逾57.2万人接种新冠疫苗 1.7万学校4月可复课\n",
      "·3月美南部边境17.1万无证移民被拘 创15年来新高\n",
      "·阿根廷总统新冠抗体检测结果呈阳性 发烧37.3度\n",
      "\n",
      "社会\n",
      "http://www.chinanews.com/society/\n"
     ]
    },
    {
     "name": "stderr",
     "output_type": "stream",
     "text": [
      "Some characters could not be decoded, and were replaced with REPLACEMENT CHARACTER.\n"
     ]
    },
    {
     "name": "stdout",
     "output_type": "stream",
     "text": [
      "北方地区平均沙尘日数11.5天 为2005年以来最多\n",
      "中国为何首次把粮食安全战略纳入五年规划？官方解读\n",
      "南京航空航天大学师生接种新冠疫苗\n",
      "\n",
      "财经\n",
      "http://www.chinanews.com/finance/\n"
     ]
    },
    {
     "name": "stderr",
     "output_type": "stream",
     "text": [
      "Some characters could not be decoded, and were replaced with REPLACEMENT CHARACTER.\n"
     ]
    },
    {
     "name": "stdout",
     "output_type": "stream",
     "text": [
      "中国为何首次把粮食安全战略纳入五年规划？官方解读\n",
      "报告：一季度中国新房找房热度同比上涨20.9%\n",
      "今年前2月新疆维吾尔自治区能源供应保障能力持续提升\n",
      "\n",
      "产经\n",
      "http://www.chinanews.com/business/\n"
     ]
    },
    {
     "name": "stderr",
     "output_type": "stream",
     "text": [
      "Some characters could not be decoded, and were replaced with REPLACEMENT CHARACTER.\n"
     ]
    },
    {
     "name": "stdout",
     "output_type": "stream",
     "text": [
      "VR/AR与TWS业务共振，双动力引擎实现业绩高增长\n",
      "晚熟脐橙上市 奉节脐橙产地价格有望转涨\n",
      "沃尔沃汽车面向全体员工推出24周带薪育儿假政策\n",
      "\n",
      "金融\n",
      "http://www.chinanews.com/fortune/\n"
     ]
    },
    {
     "name": "stderr",
     "output_type": "stream",
     "text": [
      "Some characters could not be decoded, and were replaced with REPLACEMENT CHARACTER.\n"
     ]
    },
    {
     "name": "stdout",
     "output_type": "stream",
     "text": [
      "北京金融法院正式成立\n",
      "信贷供需两旺 结构不断优化——解读2月我国金融数据\n",
      "上市公司应建立内幕信息知情人登记管理制度\n",
      "\n",
      "汽车\n",
      "http://www.chinanews.com/auto/\n",
      "途虎养车与埃克森美孚再携手 多款产品强势上线\n",
      "汽车芯片断供潮风波再起 十余家传统车企按下暂停键\n",
      "第三代Honda CONNECT正式发布：这一程 更智能\n",
      "\n",
      "港澳\n",
      "http://www.chinanews.com/gangao/\n"
     ]
    },
    {
     "name": "stderr",
     "output_type": "stream",
     "text": [
      "Some characters could not be decoded, and were replaced with REPLACEMENT CHARACTER.\n"
     ]
    },
    {
     "name": "stdout",
     "output_type": "stream",
     "text": [
      "黎智英等7人被裁定组织及参与未经批准集结两罪成\n",
      "驻港公署正告美驻港官员：停止干预香港事务和中国内政\n",
      "董建华：协力开拓香港由乱到治、由治到兴的黄金时代\n",
      "\n",
      "台湾\n",
      "http://www.chinanews.com/taiwan/\n"
     ]
    },
    {
     "name": "stderr",
     "output_type": "stream",
     "text": [
      "Some characters could not be decoded, and were replaced with REPLACEMENT CHARACTER.\n"
     ]
    },
    {
     "name": "stdout",
     "output_type": "stream",
     "text": [
      "台铁出轨事故30名罹难者身份确认 受损列车车厢陆续被拉出\n",
      "台铁脱轨事故致41人无生命迹象 或为台铁近40年最严重事故\n",
      "国台办：对台铁出轨事故造成的伤亡人员表达哀悼和慰问\n",
      "\n",
      "华人\n",
      "http://www.chinanews.com/huaren/\n"
     ]
    },
    {
     "name": "stderr",
     "output_type": "stream",
     "text": [
      "Some characters could not be decoded, and were replaced with REPLACEMENT CHARACTER.\n"
     ]
    },
    {
     "name": "stdout",
     "output_type": "stream",
     "text": [
      "“2021全球华人新春手机摄影大赛”颁奖礼潮州举行\n",
      "福建省宁德市促发挥港澳台同胞和海外侨胞优势加快发展\n",
      "美国华裔美食作家捐款助力小商家 华埠餐馆表感谢\n",
      "\n",
      "娱乐\n",
      "http://www.chinanews.com/ent/\n"
     ]
    },
    {
     "name": "stderr",
     "output_type": "stream",
     "text": [
      "Some characters could not be decoded, and were replaced with REPLACEMENT CHARACTER.\n"
     ]
    },
    {
     "name": "stdout",
     "output_type": "stream",
     "text": [
      "除了探案，我们看推理综艺的时候在看些什么\n",
      "汤姆和杰瑞、周子舒和温客行 双主角成近年影视剧新卖点\n",
      "从名主持到综艺“特工” 田源四十不惑再出发\n",
      "\n",
      "体育\n",
      "http://www.chinanews.com/sports/\n"
     ]
    },
    {
     "name": "stderr",
     "output_type": "stream",
     "text": [
      "Some characters could not be decoded, and were replaced with REPLACEMENT CHARACTER.\n"
     ]
    },
    {
     "name": "stdout",
     "output_type": "stream",
     "text": [
      "2023年女足世界杯举办城市确定 决赛将在悉尼举行\n",
      "国足四十强赛剩余赛程出炉 首场五月底迎战关岛\n",
      "孙杨案重审听证会5月下旬进行 以线上视频形式进行\n",
      "\n",
      "文化\n",
      "http://www.chinanews.com/cul/\n"
     ]
    },
    {
     "name": "stderr",
     "output_type": "stream",
     "text": [
      "Some characters could not be decoded, and were replaced with REPLACEMENT CHARACTER.\n"
     ]
    },
    {
     "name": "stdout",
     "output_type": "stream",
     "text": [
      "《源动力：中国民营企业传承突围》亮相北京图书订货会\n",
      "北京语言大学鲁迅与世界文化研究院成立\n",
      "解读经典著作文化魅力 《张其成全解黄帝内经》首发 \n",
      "\n",
      "837\n"
     ]
    }
   ],
   "source": [
    "all_news = []\n",
    "navbar = soup.find(name='ul',attrs={\"class\":\"nav_navcon\"}).findAll(\"a\") \n",
    "for nav in navbar[1:14]: # 取第一栏\n",
    "    print(nav.string)\n",
    "    if nav['href'][:5]!=\"http:\": \n",
    "        url_nav = \"http:\" + nav['href'] # 获取改板块的url\n",
    "    print(url_nav)\n",
    "    html_nav = requests.get(url_nav) \n",
    "    soup_nav = BeautifulSoup(html_nav.content,\"html.parser\")\n",
    " \n",
    "    count = 0 # 控制打印新闻条数\n",
    "    for n in soup_nav.findAll(\"li\") + soup_nav.findAll(\"em\") + soup_nav.findAll(\"h1\"): # 寻找新闻 \n",
    "        if n.a and n.a.string and len(n.a.string) > 7: \n",
    "            all_news.append(nav.string+','+n.a.string) \n",
    "            if count < 3: \n",
    "                print(n.a.string) \n",
    "                count += 1\n",
    "    print()\n",
    "print(len(all_news))"
   ]
  },
  {
   "cell_type": "code",
   "execution_count": 7,
   "metadata": {},
   "outputs": [],
   "source": [
    "# 我们生成一个新的数据文本，并将所有新闻标题写入新文件\n",
    "with open('all_news.csv', 'a+',encoding='utf-8') as f:\n",
    "    for i in range(len(all_news)):\n",
    "        f.write(str(all_news[i])+'\\n') \n",
    "f.close()"
   ]
  },
  {
   "cell_type": "code",
   "execution_count": 8,
   "metadata": {},
   "outputs": [],
   "source": [
    "# 必要准备工作：导入库，配置环境等\n",
    "from __future__ import division\n",
    "import os, sys\n",
    "# 导入库并为库起个别名\n",
    "import numpy as np\n",
    "import pandas as pd\n",
    "from pandas import Series, DataFrame\n",
    "br = '\\n'\n",
    "# 启动绘图\n",
    "%matplotlib inline"
   ]
  },
  {
   "cell_type": "code",
   "execution_count": 9,
   "metadata": {},
   "outputs": [
    {
     "data": {
      "text/html": [
       "<div>\n",
       "<style scoped>\n",
       "    .dataframe tbody tr th:only-of-type {\n",
       "        vertical-align: middle;\n",
       "    }\n",
       "\n",
       "    .dataframe tbody tr th {\n",
       "        vertical-align: top;\n",
       "    }\n",
       "\n",
       "    .dataframe thead th {\n",
       "        text-align: right;\n",
       "    }\n",
       "</style>\n",
       "<table border=\"1\" class=\"dataframe\">\n",
       "  <thead>\n",
       "    <tr style=\"text-align: right;\">\n",
       "      <th></th>\n",
       "      <th>type</th>\n",
       "      <th>content</th>\n",
       "    </tr>\n",
       "  </thead>\n",
       "  <tbody>\n",
       "    <tr>\n",
       "      <th>0</th>\n",
       "      <td>时政</td>\n",
       "      <td>新冠病毒疫苗接种问答来了！涉及34个关键问题</td>\n",
       "    </tr>\n",
       "    <tr>\n",
       "      <th>1</th>\n",
       "      <td>时政</td>\n",
       "      <td>国家移民管理机构将启用队旗和标志</td>\n",
       "    </tr>\n",
       "    <tr>\n",
       "      <th>2</th>\n",
       "      <td>时政</td>\n",
       "      <td>美中政策基金会主席：中美知识鸿沟恐将伤害美国外交</td>\n",
       "    </tr>\n",
       "    <tr>\n",
       "      <th>3</th>\n",
       "      <td>时政</td>\n",
       "      <td>解析新冠重组亚单位蛋白疫苗：精准识别病毒最核心部分</td>\n",
       "    </tr>\n",
       "    <tr>\n",
       "      <th>4</th>\n",
       "      <td>时政</td>\n",
       "      <td>上海：“在沪停留超24小时所有人员需强制登记”系误读</td>\n",
       "    </tr>\n",
       "    <tr>\n",
       "      <th>...</th>\n",
       "      <td>...</td>\n",
       "      <td>...</td>\n",
       "    </tr>\n",
       "    <tr>\n",
       "      <th>1672</th>\n",
       "      <td>文化</td>\n",
       "      <td>云南天文台发现特殊双星系统</td>\n",
       "    </tr>\n",
       "    <tr>\n",
       "      <th>1673</th>\n",
       "      <td>文化</td>\n",
       "      <td>天津发现辽代线刻佛造像群 属国内同时期同类型遗存仅见</td>\n",
       "    </tr>\n",
       "    <tr>\n",
       "      <th>1674</th>\n",
       "      <td>文化</td>\n",
       "      <td>小书院丨古人没闹钟，早上会睡过头迟到吗？</td>\n",
       "    </tr>\n",
       "    <tr>\n",
       "      <th>1675</th>\n",
       "      <td>文化</td>\n",
       "      <td>《头等舱的贼》： 顶尖商业调查师笔下的商业犯罪</td>\n",
       "    </tr>\n",
       "    <tr>\n",
       "      <th>1676</th>\n",
       "      <td>文化</td>\n",
       "      <td>越剧走过115载春秋：发源地书写“守与望”</td>\n",
       "    </tr>\n",
       "  </tbody>\n",
       "</table>\n",
       "<p>1677 rows × 2 columns</p>\n",
       "</div>"
      ],
      "text/plain": [
       "     type                     content\n",
       "0      时政      新冠病毒疫苗接种问答来了！涉及34个关键问题\n",
       "1      时政            国家移民管理机构将启用队旗和标志\n",
       "2      时政    美中政策基金会主席：中美知识鸿沟恐将伤害美国外交\n",
       "3      时政   解析新冠重组亚单位蛋白疫苗：精准识别病毒最核心部分\n",
       "4      时政  上海：“在沪停留超24小时所有人员需强制登记”系误读\n",
       "...   ...                         ...\n",
       "1672   文化               云南天文台发现特殊双星系统\n",
       "1673   文化  天津发现辽代线刻佛造像群 属国内同时期同类型遗存仅见\n",
       "1674   文化        小书院丨古人没闹钟，早上会睡过头迟到吗？\n",
       "1675   文化     《头等舱的贼》： 顶尖商业调查师笔下的商业犯罪\n",
       "1676   文化       越剧走过115载春秋：发源地书写“守与望”\n",
       "\n",
       "[1677 rows x 2 columns]"
      ]
     },
     "execution_count": 9,
     "metadata": {},
     "output_type": "execute_result"
    }
   ],
   "source": [
    "# 使用read_csv来读取csv，默认分隔符为逗号\n",
    "news = pd.read_csv('all_news.csv', names=['type', 'content'],encoding='utf-8')\n",
    "news"
   ]
  },
  {
   "cell_type": "code",
   "execution_count": 47,
   "metadata": {},
   "outputs": [
    {
     "data": {
      "text/plain": [
       "'解析新冠重组亚单位蛋白疫苗：精准识别病毒最核心部分'"
      ]
     },
     "execution_count": 47,
     "metadata": {},
     "output_type": "execute_result"
    }
   ],
   "source": [
    "news.content[3]"
   ]
  },
  {
   "cell_type": "code",
   "execution_count": null,
   "metadata": {},
   "outputs": [],
   "source": []
  }
 ],
 "metadata": {
  "kernelspec": {
   "display_name": "Python 3",
   "language": "python",
   "name": "python3"
  },
  "language_info": {
   "codemirror_mode": {
    "name": "ipython",
    "version": 3
   },
   "file_extension": ".py",
   "mimetype": "text/x-python",
   "name": "python",
   "nbconvert_exporter": "python",
   "pygments_lexer": "ipython3",
   "version": "3.8.5"
  }
 },
 "nbformat": 4,
 "nbformat_minor": 2
}
