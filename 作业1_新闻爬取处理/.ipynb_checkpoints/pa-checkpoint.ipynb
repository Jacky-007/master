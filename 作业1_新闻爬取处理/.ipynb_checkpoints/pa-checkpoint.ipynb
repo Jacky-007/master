{
 "cells": [
  {
   "cell_type": "code",
   "execution_count": 52,
   "metadata": {},
   "outputs": [],
   "source": [
    "# 加载访问url资源的库\n",
    "from bs4 import BeautifulSoup\n",
    "import requests"
   ]
  },
  {
   "cell_type": "code",
   "execution_count": 53,
   "metadata": {},
   "outputs": [],
   "source": [
    "url = \"http://www.chinanews.com/\"\n",
    "html = requests.get(url) # 获取网页\n",
    "soup = BeautifulSoup(html.content,\"html.parser\") # 将该网页转化为 BeautifulSoup 对象\n",
    "#print(soup.prettify()) # 格式化打印网页，确认获取数据"
   ]
  },
  {
   "cell_type": "code",
   "execution_count": 54,
   "metadata": {},
   "outputs": [
    {
     "name": "stdout",
     "output_type": "stream",
     "text": [
      "时政\n",
      "http://www.chinanews.com/china/\n"
     ]
    },
    {
     "name": "stderr",
     "output_type": "stream",
     "text": [
      "Some characters could not be decoded, and were replaced with REPLACEMENT CHARACTER.\n"
     ]
    },
    {
     "name": "stdout",
     "output_type": "stream",
     "text": [
      "新冠病毒疫苗接种问答来了！涉及34个关键问题\n",
      "国家移民管理机构将启用队旗和标志\n",
      "美中政策基金会主席：中美知识鸿沟恐将伤害美国外交\n",
      "\n",
      "国际\n",
      "http://www.chinanews.com/world/\n"
     ]
    },
    {
     "name": "stderr",
     "output_type": "stream",
     "text": [
      "Some characters could not be decoded, and were replaced with REPLACEMENT CHARACTER.\n"
     ]
    },
    {
     "name": "stdout",
     "output_type": "stream",
     "text": [
      "·南非高官：人类命运共同体理念为世界进步提供中国智慧\n",
      "·日本累计确诊超47.5万 政府拟提高变异病毒筛检率\n",
      "·日本大阪等3府县适用防止疫情蔓延重点措施\n",
      "\n",
      "社会\n",
      "http://www.chinanews.com/society/\n"
     ]
    },
    {
     "name": "stderr",
     "output_type": "stream",
     "text": [
      "Some characters could not be decoded, and were replaced with REPLACEMENT CHARACTER.\n"
     ]
    },
    {
     "name": "stdout",
     "output_type": "stream",
     "text": [
      "山东荣成：“黑尾鸥之乡”鸥鸟归来\n",
      "探访辽宁沈阳女警犬训导员\n",
      "清明将至 民众祭扫华北军区烈士陵园\n",
      "\n",
      "财经\n",
      "http://www.chinanews.com/finance/\n"
     ]
    },
    {
     "name": "stderr",
     "output_type": "stream",
     "text": [
      "Some characters could not be decoded, and were replaced with REPLACEMENT CHARACTER.\n"
     ]
    },
    {
     "name": "stdout",
     "output_type": "stream",
     "text": [
      "央行：推动自贸试验区金融开放创新 实现高水平对外开放\n",
      "机构：一季度A股IPO数量达100家 同比增长96%\n",
      "小长假迎旅游高峰 整治旅游乱象应监管前移\n",
      "\n",
      "产经\n",
      "http://www.chinanews.com/business/\n"
     ]
    },
    {
     "name": "stderr",
     "output_type": "stream",
     "text": [
      "Some characters could not be decoded, and were replaced with REPLACEMENT CHARACTER.\n"
     ]
    },
    {
     "name": "stdout",
     "output_type": "stream",
     "text": [
      "VR/AR与TWS业务共振，双动力引擎实现业绩高增长\n",
      "晚熟脐橙上市 奉节脐橙产地价格有望转涨\n",
      "沃尔沃汽车面向全体员工推出24周带薪育儿假政策\n",
      "\n",
      "金融\n",
      "http://www.chinanews.com/fortune/\n"
     ]
    },
    {
     "name": "stderr",
     "output_type": "stream",
     "text": [
      "Some characters could not be decoded, and were replaced with REPLACEMENT CHARACTER.\n"
     ]
    },
    {
     "name": "stdout",
     "output_type": "stream",
     "text": [
      "北京金融法院正式成立\n",
      "信贷供需两旺 结构不断优化——解读2月我国金融数据\n",
      "在华外资银行保险机构数量稳步增长 总资产逾5万亿元\n",
      "\n",
      "汽车\n",
      "http://www.chinanews.com/auto/\n",
      "途虎养车与埃克森美孚再携手 多款产品强势上线\n",
      "汽车芯片断供潮风波再起 十余家传统车企按下暂停键\n",
      "第三代Honda CONNECT正式发布：这一程 更智能\n",
      "\n",
      "港澳\n",
      "http://www.chinanews.com/gangao/\n"
     ]
    },
    {
     "name": "stderr",
     "output_type": "stream",
     "text": [
      "Some characters could not be decoded, and were replaced with REPLACEMENT CHARACTER.\n"
     ]
    },
    {
     "name": "stdout",
     "output_type": "stream",
     "text": [
      "黎智英等7人被裁定组织及参与未经批准集结两罪成\n",
      "香港和日本推出跨币证券交易货银两讫联网\n",
      "乱港分子林卓廷还押中辞任北区区议员\n",
      "\n",
      "台湾\n",
      "http://www.chinanews.com/taiwan/\n"
     ]
    },
    {
     "name": "stderr",
     "output_type": "stream",
     "text": [
      "Some characters could not be decoded, and were replaced with REPLACEMENT CHARACTER.\n"
     ]
    },
    {
     "name": "stdout",
     "output_type": "stream",
     "text": [
      "台盟中央2021年对台联络重点工作推进会在皖举行\n",
      "马英九吴敦义出境限令将到期 岛内猜测其会否“登陆”\n",
      "“台独立委”炒作大陆动画搞“文化统战” 被网民讽刺\n",
      "\n",
      "华人\n",
      "http://www.chinanews.com/huaren/\n"
     ]
    },
    {
     "name": "stderr",
     "output_type": "stream",
     "text": [
      "Some characters could not be decoded, and were replaced with REPLACEMENT CHARACTER.\n"
     ]
    },
    {
     "name": "stdout",
     "output_type": "stream",
     "text": [
      "青海侨联“技能团”为乡村振兴送去“金点子”\n",
      "赤几华侨华人总商会向爆炸事故受难民众捐生活物资\n",
      "洛杉矶橙县餐厅堂吃客容量扩大 餐饮业者振奋\n",
      "\n",
      "娱乐\n",
      "http://www.chinanews.com/ent/\n"
     ]
    },
    {
     "name": "stderr",
     "output_type": "stream",
     "text": [
      "Some characters could not be decoded, and were replaced with REPLACEMENT CHARACTER.\n"
     ]
    },
    {
     "name": "stdout",
     "output_type": "stream",
     "text": [
      "除了探案，我们看推理综艺的时候在看些什么\n",
      "汤姆和杰瑞、周子舒和温客行 双主角成近年影视剧新卖点\n",
      "从名主持到综艺“特工” 田源四十不惑再出发\n",
      "\n",
      "体育\n",
      "http://www.chinanews.com/sports/\n"
     ]
    },
    {
     "name": "stderr",
     "output_type": "stream",
     "text": [
      "Some characters could not be decoded, and were replaced with REPLACEMENT CHARACTER.\n"
     ]
    },
    {
     "name": "stdout",
     "output_type": "stream",
     "text": [
      "欧足联：欧洲杯单场每支球队可更换5名替补 \n",
      "减少冲动消费纠纷！北京健身房设置七天冷静期\n",
      "一波三折！东京奥运会火炬大阪传递或因疫情取消\n",
      "\n",
      "文化\n",
      "http://www.chinanews.com/cul/\n"
     ]
    },
    {
     "name": "stderr",
     "output_type": "stream",
     "text": [
      "Some characters could not be decoded, and were replaced with REPLACEMENT CHARACTER.\n"
     ]
    },
    {
     "name": "stdout",
     "output_type": "stream",
     "text": [
      "解读经典著作文化魅力 《张其成全解黄帝内经》首发 \n",
      "中西比较|“奇妙”的南北朝：北政制 南礼乐\n",
      "“童增书简”收录近百封索赔信 揭示日本侵华细节 \n",
      "\n",
      "840\n"
     ]
    }
   ],
   "source": [
    "all_news = []\n",
    "navbar = soup.find(name='ul',attrs={\"class\":\"nav_navcon\"}).findAll(\"a\") \n",
    "for nav in navbar[1:14]: # 取第一栏\n",
    "    print(nav.string)\n",
    "    if nav['href'][:5]!=\"http:\": \n",
    "        url_nav = \"http:\" + nav['href'] # 获取改板块的url\n",
    "    print(url_nav)\n",
    "    html_nav = requests.get(url_nav) \n",
    "    soup_nav = BeautifulSoup(html_nav.content,\"html.parser\")\n",
    " \n",
    "    count = 0 # 控制打印新闻条数\n",
    "    for n in soup_nav.findAll(\"li\") + soup_nav.findAll(\"em\") + soup_nav.findAll(\"h1\"): # 寻找新闻 \n",
    "        if n.a and n.a.string and len(n.a.string) > 7: \n",
    "            all_news.append(nav.string+','+n.a.string) \n",
    "            if count < 3: \n",
    "                print(n.a.string) \n",
    "                count += 1\n",
    "    print()\n",
    "print(len(all_news))"
   ]
  },
  {
   "cell_type": "code",
   "execution_count": 55,
   "metadata": {},
   "outputs": [],
   "source": [
    "# 我们生成一个新的数据文本，并将所有新闻标题写入新文件\n",
    "with open('all_news.csv', 'a+',encoding='utf-8') as f:\n",
    "    for i in range(len(all_news)):\n",
    "        f.write(str(all_news[i])+'\\n') \n",
    "f.close()"
   ]
  },
  {
   "cell_type": "code",
   "execution_count": 56,
   "metadata": {},
   "outputs": [],
   "source": [
    "# 必要准备工作：导入库，配置环境等\n",
    "from __future__ import division\n",
    "import os, sys\n",
    "# 导入库并为库起个别名\n",
    "import numpy as np\n",
    "import pandas as pd\n",
    "from pandas import Series, DataFrame\n",
    "br = '\\n'\n",
    "# 启动绘图\n",
    "%matplotlib inline"
   ]
  },
  {
   "cell_type": "code",
   "execution_count": 57,
   "metadata": {},
   "outputs": [
    {
     "data": {
      "text/html": [
       "<div>\n",
       "<style scoped>\n",
       "    .dataframe tbody tr th:only-of-type {\n",
       "        vertical-align: middle;\n",
       "    }\n",
       "\n",
       "    .dataframe tbody tr th {\n",
       "        vertical-align: top;\n",
       "    }\n",
       "\n",
       "    .dataframe thead th {\n",
       "        text-align: right;\n",
       "    }\n",
       "</style>\n",
       "<table border=\"1\" class=\"dataframe\">\n",
       "  <thead>\n",
       "    <tr style=\"text-align: right;\">\n",
       "      <th></th>\n",
       "      <th>type</th>\n",
       "      <th>content</th>\n",
       "    </tr>\n",
       "  </thead>\n",
       "  <tbody>\n",
       "    <tr>\n",
       "      <td>0</td>\n",
       "      <td>时政</td>\n",
       "      <td>新冠病毒疫苗接种问答来了！涉及34个关键问题</td>\n",
       "    </tr>\n",
       "    <tr>\n",
       "      <td>1</td>\n",
       "      <td>时政</td>\n",
       "      <td>国家移民管理机构将启用队旗和标志</td>\n",
       "    </tr>\n",
       "    <tr>\n",
       "      <td>2</td>\n",
       "      <td>时政</td>\n",
       "      <td>美中政策基金会主席：中美知识鸿沟恐将伤害美国外交</td>\n",
       "    </tr>\n",
       "    <tr>\n",
       "      <td>3</td>\n",
       "      <td>时政</td>\n",
       "      <td>解析新冠重组亚单位蛋白疫苗：精准识别病毒最核心部分</td>\n",
       "    </tr>\n",
       "    <tr>\n",
       "      <td>4</td>\n",
       "      <td>时政</td>\n",
       "      <td>上海：“在沪停留超24小时所有人员需强制登记”系误读</td>\n",
       "    </tr>\n",
       "    <tr>\n",
       "      <td>...</td>\n",
       "      <td>...</td>\n",
       "      <td>...</td>\n",
       "    </tr>\n",
       "    <tr>\n",
       "      <td>835</td>\n",
       "      <td>文化</td>\n",
       "      <td>系列图书致敬百岁翻译家许渊冲</td>\n",
       "    </tr>\n",
       "    <tr>\n",
       "      <td>836</td>\n",
       "      <td>文化</td>\n",
       "      <td>消费习惯日趋“线上化”？实体书店该如何应该对</td>\n",
       "    </tr>\n",
       "    <tr>\n",
       "      <td>837</td>\n",
       "      <td>文化</td>\n",
       "      <td>牛津《技术史》全译本亮相北京图书订货会</td>\n",
       "    </tr>\n",
       "    <tr>\n",
       "      <td>838</td>\n",
       "      <td>文化</td>\n",
       "      <td>最新考古发现！西安发现周天子使用的宗庙</td>\n",
       "    </tr>\n",
       "    <tr>\n",
       "      <td>839</td>\n",
       "      <td>文化</td>\n",
       "      <td>越剧走过115载春秋：发源地书写“守与望”</td>\n",
       "    </tr>\n",
       "  </tbody>\n",
       "</table>\n",
       "<p>840 rows × 2 columns</p>\n",
       "</div>"
      ],
      "text/plain": [
       "    type                     content\n",
       "0     时政      新冠病毒疫苗接种问答来了！涉及34个关键问题\n",
       "1     时政            国家移民管理机构将启用队旗和标志\n",
       "2     时政    美中政策基金会主席：中美知识鸿沟恐将伤害美国外交\n",
       "3     时政   解析新冠重组亚单位蛋白疫苗：精准识别病毒最核心部分\n",
       "4     时政  上海：“在沪停留超24小时所有人员需强制登记”系误读\n",
       "..   ...                         ...\n",
       "835   文化              系列图书致敬百岁翻译家许渊冲\n",
       "836   文化      消费习惯日趋“线上化”？实体书店该如何应该对\n",
       "837   文化         牛津《技术史》全译本亮相北京图书订货会\n",
       "838   文化         最新考古发现！西安发现周天子使用的宗庙\n",
       "839   文化       越剧走过115载春秋：发源地书写“守与望”\n",
       "\n",
       "[840 rows x 2 columns]"
      ]
     },
     "execution_count": 57,
     "metadata": {},
     "output_type": "execute_result"
    }
   ],
   "source": [
    "# 使用read_csv来读取csv，默认分隔符为逗号\n",
    "news = pd.read_csv('all_news.csv', names=['type', 'content'],encoding='utf-8')\n",
    "news"
   ]
  },
  {
   "cell_type": "code",
   "execution_count": 47,
   "metadata": {},
   "outputs": [
    {
     "data": {
      "text/plain": [
       "'解析新冠重组亚单位蛋白疫苗：精准识别病毒最核心部分'"
      ]
     },
     "execution_count": 47,
     "metadata": {},
     "output_type": "execute_result"
    }
   ],
   "source": [
    "news.content[3]"
   ]
  },
  {
   "cell_type": "code",
   "execution_count": null,
   "metadata": {},
   "outputs": [],
   "source": []
  }
 ],
 "metadata": {
  "kernelspec": {
   "display_name": "Python 3",
   "language": "python",
   "name": "python3"
  },
  "language_info": {
   "codemirror_mode": {
    "name": "ipython",
    "version": 3
   },
   "file_extension": ".py",
   "mimetype": "text/x-python",
   "name": "python",
   "nbconvert_exporter": "python",
   "pygments_lexer": "ipython3",
   "version": "3.7.4"
  }
 },
 "nbformat": 4,
 "nbformat_minor": 2
}
